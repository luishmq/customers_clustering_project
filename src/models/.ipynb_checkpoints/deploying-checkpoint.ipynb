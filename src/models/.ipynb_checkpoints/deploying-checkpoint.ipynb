{
 "cells": [
  {
   "cell_type": "markdown",
   "id": "d82252dd",
   "metadata": {
    "ExecuteTime": {
     "end_time": "2023-08-24T18:02:13.814514Z",
     "start_time": "2023-08-24T18:02:13.158978Z"
    }
   },
   "source": [
    "# 0.0 Imports"
   ]
  },
  {
   "cell_type": "code",
   "execution_count": 4,
   "id": "3c88abe7",
   "metadata": {
    "ExecuteTime": {
     "end_time": "2023-09-12T17:21:03.024842Z",
     "start_time": "2023-09-12T17:21:00.639407Z"
    }
   },
   "outputs": [],
   "source": [
    "import re\n",
    "import inflection\n",
    "import s3fs\n",
    "import numpy   as np\n",
    "import pandas  as pd\n",
    "import seaborn as sns\n",
    "\n",
    "import umap.umap_ as umap\n",
    "\n",
    "from matplotlib import pyplot as plt\n",
    "\n",
    "from sklearn import cluster       as c\n",
    "from sklearn import metrics       as me\n",
    "from sklearn import ensemble      as en\n",
    "from sklearn import preprocessing as pp\n",
    "from sklearn import decomposition as dd\n",
    "from sklearn import manifold      as mn\n",
    "from sklearn import mixture       as mx\n",
    "\n",
    "from plotly import express as px\n",
    "from scipy.cluster import hierarchy as hc\n",
    "from sqlalchemy import create_engine"
   ]
  },
  {
   "cell_type": "markdown",
   "id": "281e8bf7",
   "metadata": {},
   "source": [
    "## 0.2 Loading Data"
   ]
  },
  {
   "cell_type": "code",
   "execution_count": 121,
   "id": "6430cb68",
   "metadata": {
    "ExecuteTime": {
     "end_time": "2023-09-12T14:49:04.552307Z",
     "start_time": "2023-09-12T14:49:04.179707Z"
    }
   },
   "outputs": [],
   "source": [
    "# Carregando dados\n",
    "# path_local = '/Users/luishmq/Documents/repos/customers_clustering/'\n",
    "path\n",
    "df_raw = pd.read_csv( path + 'data/Ecommerce.csv')"
   ]
  },
  {
   "cell_type": "code",
   "execution_count": 3,
   "id": "27355600",
   "metadata": {
    "ExecuteTime": {
     "end_time": "2023-09-12T13:24:24.492304Z",
     "start_time": "2023-09-12T13:24:24.442037Z"
    }
   },
   "outputs": [],
   "source": [
    "# Dropando coluna extra\n",
    "df_raw = df_raw.drop( columns=['Unnamed: 8'], axis=1 )"
   ]
  },
  {
   "cell_type": "code",
   "execution_count": 4,
   "id": "be905be8",
   "metadata": {
    "ExecuteTime": {
     "end_time": "2023-09-12T13:24:25.020210Z",
     "start_time": "2023-09-12T13:24:24.997239Z"
    }
   },
   "outputs": [
    {
     "data": {
      "text/html": [
       "<div>\n",
       "<style scoped>\n",
       "    .dataframe tbody tr th:only-of-type {\n",
       "        vertical-align: middle;\n",
       "    }\n",
       "\n",
       "    .dataframe tbody tr th {\n",
       "        vertical-align: top;\n",
       "    }\n",
       "\n",
       "    .dataframe thead th {\n",
       "        text-align: right;\n",
       "    }\n",
       "</style>\n",
       "<table border=\"1\" class=\"dataframe\">\n",
       "  <thead>\n",
       "    <tr style=\"text-align: right;\">\n",
       "      <th></th>\n",
       "      <th>InvoiceNo</th>\n",
       "      <th>StockCode</th>\n",
       "      <th>Description</th>\n",
       "      <th>Quantity</th>\n",
       "      <th>InvoiceDate</th>\n",
       "      <th>UnitPrice</th>\n",
       "      <th>CustomerID</th>\n",
       "      <th>Country</th>\n",
       "    </tr>\n",
       "  </thead>\n",
       "  <tbody>\n",
       "    <tr>\n",
       "      <th>0</th>\n",
       "      <td>536365</td>\n",
       "      <td>85123A</td>\n",
       "      <td>WHITE HANGING HEART T-LIGHT HOLDER</td>\n",
       "      <td>6</td>\n",
       "      <td>29-Nov-16</td>\n",
       "      <td>2.55</td>\n",
       "      <td>17850.0</td>\n",
       "      <td>United Kingdom</td>\n",
       "    </tr>\n",
       "    <tr>\n",
       "      <th>1</th>\n",
       "      <td>536365</td>\n",
       "      <td>71053</td>\n",
       "      <td>WHITE METAL LANTERN</td>\n",
       "      <td>6</td>\n",
       "      <td>29-Nov-16</td>\n",
       "      <td>3.39</td>\n",
       "      <td>17850.0</td>\n",
       "      <td>United Kingdom</td>\n",
       "    </tr>\n",
       "    <tr>\n",
       "      <th>2</th>\n",
       "      <td>536365</td>\n",
       "      <td>84406B</td>\n",
       "      <td>CREAM CUPID HEARTS COAT HANGER</td>\n",
       "      <td>8</td>\n",
       "      <td>29-Nov-16</td>\n",
       "      <td>2.75</td>\n",
       "      <td>17850.0</td>\n",
       "      <td>United Kingdom</td>\n",
       "    </tr>\n",
       "    <tr>\n",
       "      <th>3</th>\n",
       "      <td>536365</td>\n",
       "      <td>84029G</td>\n",
       "      <td>KNITTED UNION FLAG HOT WATER BOTTLE</td>\n",
       "      <td>6</td>\n",
       "      <td>29-Nov-16</td>\n",
       "      <td>3.39</td>\n",
       "      <td>17850.0</td>\n",
       "      <td>United Kingdom</td>\n",
       "    </tr>\n",
       "    <tr>\n",
       "      <th>4</th>\n",
       "      <td>536365</td>\n",
       "      <td>84029E</td>\n",
       "      <td>RED WOOLLY HOTTIE WHITE HEART.</td>\n",
       "      <td>6</td>\n",
       "      <td>29-Nov-16</td>\n",
       "      <td>3.39</td>\n",
       "      <td>17850.0</td>\n",
       "      <td>United Kingdom</td>\n",
       "    </tr>\n",
       "  </tbody>\n",
       "</table>\n",
       "</div>"
      ],
      "text/plain": [
       "  InvoiceNo StockCode                          Description  Quantity  \\\n",
       "0    536365    85123A   WHITE HANGING HEART T-LIGHT HOLDER         6   \n",
       "1    536365     71053                  WHITE METAL LANTERN         6   \n",
       "2    536365    84406B       CREAM CUPID HEARTS COAT HANGER         8   \n",
       "3    536365    84029G  KNITTED UNION FLAG HOT WATER BOTTLE         6   \n",
       "4    536365    84029E       RED WOOLLY HOTTIE WHITE HEART.         6   \n",
       "\n",
       "  InvoiceDate  UnitPrice  CustomerID         Country  \n",
       "0   29-Nov-16       2.55     17850.0  United Kingdom  \n",
       "1   29-Nov-16       3.39     17850.0  United Kingdom  \n",
       "2   29-Nov-16       2.75     17850.0  United Kingdom  \n",
       "3   29-Nov-16       3.39     17850.0  United Kingdom  \n",
       "4   29-Nov-16       3.39     17850.0  United Kingdom  "
      ]
     },
     "execution_count": 4,
     "metadata": {},
     "output_type": "execute_result"
    }
   ],
   "source": [
    "df_raw.head()"
   ]
  },
  {
   "cell_type": "markdown",
   "id": "10a0e3cc",
   "metadata": {},
   "source": [
    "# 1.0 Data Description"
   ]
  },
  {
   "cell_type": "code",
   "execution_count": 5,
   "id": "a88bb86d",
   "metadata": {
    "ExecuteTime": {
     "end_time": "2023-09-12T13:24:25.961684Z",
     "start_time": "2023-09-12T13:24:25.941205Z"
    }
   },
   "outputs": [],
   "source": [
    "df1 = df_raw.copy()"
   ]
  },
  {
   "cell_type": "markdown",
   "id": "92ba8211",
   "metadata": {},
   "source": [
    "## 1.1 Rename Columns"
   ]
  },
  {
   "cell_type": "code",
   "execution_count": 8,
   "id": "57898392",
   "metadata": {
    "ExecuteTime": {
     "end_time": "2023-09-12T13:24:42.983778Z",
     "start_time": "2023-09-12T13:24:42.975889Z"
    }
   },
   "outputs": [],
   "source": [
    "# Mudar para snake case\n",
    "old_cols = ['InvoiceNo', 'StockCode', 'Description', 'Quantity', 'InvoiceDate', 'UnitPrice', 'CustomerID', 'Country']\n",
    "\n",
    "snake_case = lambda x: inflection.underscore(x)\n",
    "\n",
    "new_cols = list( map(snake_case, old_cols))\n",
    "df1.columns = new_cols"
   ]
  },
  {
   "cell_type": "markdown",
   "id": "6e32d801",
   "metadata": {},
   "source": [
    "## 1.2 Data Dimensions"
   ]
  },
  {
   "cell_type": "code",
   "execution_count": 9,
   "id": "a198abe2",
   "metadata": {
    "ExecuteTime": {
     "end_time": "2023-09-12T13:24:43.865302Z",
     "start_time": "2023-09-12T13:24:43.858611Z"
    }
   },
   "outputs": [
    {
     "name": "stdout",
     "output_type": "stream",
     "text": [
      "Number of rows: 541909\n",
      "Number of columns: 8\n"
     ]
    }
   ],
   "source": [
    "print(\"Number of rows: {}\".format(df1.shape[0]))\n",
    "print(\"Number of columns: {}\".format(df1.shape[1]))"
   ]
  },
  {
   "cell_type": "markdown",
   "id": "1d6f596f",
   "metadata": {},
   "source": [
    "## 1.3 Data Types"
   ]
  },
  {
   "cell_type": "code",
   "execution_count": 10,
   "id": "b741668c",
   "metadata": {
    "ExecuteTime": {
     "end_time": "2023-09-12T13:24:44.768993Z",
     "start_time": "2023-09-12T13:24:44.759082Z"
    }
   },
   "outputs": [
    {
     "data": {
      "text/plain": [
       "invoice_no       object\n",
       "stock_code       object\n",
       "description      object\n",
       "quantity          int64\n",
       "invoice_date     object\n",
       "unit_price      float64\n",
       "customer_id     float64\n",
       "country          object\n",
       "dtype: object"
      ]
     },
     "execution_count": 10,
     "metadata": {},
     "output_type": "execute_result"
    }
   ],
   "source": [
    "df1.dtypes"
   ]
  },
  {
   "cell_type": "markdown",
   "id": "9cfbe564",
   "metadata": {},
   "source": [
    "## 1.4 Check NA"
   ]
  },
  {
   "cell_type": "code",
   "execution_count": 11,
   "id": "6d12ec6a",
   "metadata": {
    "ExecuteTime": {
     "end_time": "2023-09-12T13:24:45.889589Z",
     "start_time": "2023-09-12T13:24:45.674116Z"
    }
   },
   "outputs": [
    {
     "data": {
      "text/plain": [
       "invoice_no           0\n",
       "stock_code           0\n",
       "description       1454\n",
       "quantity             0\n",
       "invoice_date         0\n",
       "unit_price           0\n",
       "customer_id     135080\n",
       "country              0\n",
       "dtype: int64"
      ]
     },
     "execution_count": 11,
     "metadata": {},
     "output_type": "execute_result"
    }
   ],
   "source": [
    "df1.isna().sum()"
   ]
  },
  {
   "cell_type": "markdown",
   "id": "3e5447c2",
   "metadata": {},
   "source": [
    "## 1.5 Fill NA"
   ]
  },
  {
   "cell_type": "code",
   "execution_count": 12,
   "id": "d9016774",
   "metadata": {
    "ExecuteTime": {
     "end_time": "2023-09-12T13:24:47.075261Z",
     "start_time": "2023-09-12T13:24:47.012668Z"
    }
   },
   "outputs": [],
   "source": [
    "df_missing = df1.loc[df1['customer_id'].isna(), :]\n",
    "df_not_missing = df1.loc[~df1['customer_id'].isna(), :]"
   ]
  },
  {
   "cell_type": "code",
   "execution_count": 13,
   "id": "6579a89a",
   "metadata": {
    "ExecuteTime": {
     "end_time": "2023-09-12T13:24:47.797793Z",
     "start_time": "2023-09-12T13:24:47.642456Z"
    }
   },
   "outputs": [],
   "source": [
    "# create reference\n",
    "df_backup = pd.DataFrame( df_missing['invoice_no'].drop_duplicates() )\n",
    "df_backup['customer_id'] = np.arange( 19000, 19000+len( df_backup ), 1)\n",
    "\n",
    "# merge original with reference dataframe\n",
    "df1 = pd.merge( df1, df_backup, on='invoice_no', how='left' )\n",
    "\n",
    "# coalesce \n",
    "df1['customer_id'] = df1['customer_id_x'].combine_first( df1['customer_id_y'] )\n",
    "\n",
    "# drop extra columns\n",
    "df1 = df1.drop( columns=['customer_id_x', 'customer_id_y'], axis=1 )"
   ]
  },
  {
   "cell_type": "markdown",
   "id": "94315c07",
   "metadata": {},
   "source": [
    "## 1.6 Change dtypes"
   ]
  },
  {
   "cell_type": "code",
   "execution_count": 14,
   "id": "024b4ab4",
   "metadata": {
    "ExecuteTime": {
     "end_time": "2023-09-12T13:24:49.160403Z",
     "start_time": "2023-09-12T13:24:49.091206Z"
    }
   },
   "outputs": [
    {
     "data": {
      "text/html": [
       "<div>\n",
       "<style scoped>\n",
       "    .dataframe tbody tr th:only-of-type {\n",
       "        vertical-align: middle;\n",
       "    }\n",
       "\n",
       "    .dataframe tbody tr th {\n",
       "        vertical-align: top;\n",
       "    }\n",
       "\n",
       "    .dataframe thead th {\n",
       "        text-align: right;\n",
       "    }\n",
       "</style>\n",
       "<table border=\"1\" class=\"dataframe\">\n",
       "  <thead>\n",
       "    <tr style=\"text-align: right;\">\n",
       "      <th></th>\n",
       "      <th>invoice_no</th>\n",
       "      <th>stock_code</th>\n",
       "      <th>description</th>\n",
       "      <th>quantity</th>\n",
       "      <th>invoice_date</th>\n",
       "      <th>unit_price</th>\n",
       "      <th>country</th>\n",
       "      <th>customer_id</th>\n",
       "    </tr>\n",
       "  </thead>\n",
       "  <tbody>\n",
       "    <tr>\n",
       "      <th>0</th>\n",
       "      <td>536365</td>\n",
       "      <td>85123A</td>\n",
       "      <td>WHITE HANGING HEART T-LIGHT HOLDER</td>\n",
       "      <td>6</td>\n",
       "      <td>2016-11-29</td>\n",
       "      <td>2.55</td>\n",
       "      <td>United Kingdom</td>\n",
       "      <td>17850</td>\n",
       "    </tr>\n",
       "    <tr>\n",
       "      <th>1</th>\n",
       "      <td>536365</td>\n",
       "      <td>71053</td>\n",
       "      <td>WHITE METAL LANTERN</td>\n",
       "      <td>6</td>\n",
       "      <td>2016-11-29</td>\n",
       "      <td>3.39</td>\n",
       "      <td>United Kingdom</td>\n",
       "      <td>17850</td>\n",
       "    </tr>\n",
       "    <tr>\n",
       "      <th>2</th>\n",
       "      <td>536365</td>\n",
       "      <td>84406B</td>\n",
       "      <td>CREAM CUPID HEARTS COAT HANGER</td>\n",
       "      <td>8</td>\n",
       "      <td>2016-11-29</td>\n",
       "      <td>2.75</td>\n",
       "      <td>United Kingdom</td>\n",
       "      <td>17850</td>\n",
       "    </tr>\n",
       "    <tr>\n",
       "      <th>3</th>\n",
       "      <td>536365</td>\n",
       "      <td>84029G</td>\n",
       "      <td>KNITTED UNION FLAG HOT WATER BOTTLE</td>\n",
       "      <td>6</td>\n",
       "      <td>2016-11-29</td>\n",
       "      <td>3.39</td>\n",
       "      <td>United Kingdom</td>\n",
       "      <td>17850</td>\n",
       "    </tr>\n",
       "    <tr>\n",
       "      <th>4</th>\n",
       "      <td>536365</td>\n",
       "      <td>84029E</td>\n",
       "      <td>RED WOOLLY HOTTIE WHITE HEART.</td>\n",
       "      <td>6</td>\n",
       "      <td>2016-11-29</td>\n",
       "      <td>3.39</td>\n",
       "      <td>United Kingdom</td>\n",
       "      <td>17850</td>\n",
       "    </tr>\n",
       "  </tbody>\n",
       "</table>\n",
       "</div>"
      ],
      "text/plain": [
       "  invoice_no stock_code                          description  quantity  \\\n",
       "0     536365     85123A   WHITE HANGING HEART T-LIGHT HOLDER         6   \n",
       "1     536365      71053                  WHITE METAL LANTERN         6   \n",
       "2     536365     84406B       CREAM CUPID HEARTS COAT HANGER         8   \n",
       "3     536365     84029G  KNITTED UNION FLAG HOT WATER BOTTLE         6   \n",
       "4     536365     84029E       RED WOOLLY HOTTIE WHITE HEART.         6   \n",
       "\n",
       "  invoice_date  unit_price         country  customer_id  \n",
       "0   2016-11-29        2.55  United Kingdom        17850  \n",
       "1   2016-11-29        3.39  United Kingdom        17850  \n",
       "2   2016-11-29        2.75  United Kingdom        17850  \n",
       "3   2016-11-29        3.39  United Kingdom        17850  \n",
       "4   2016-11-29        3.39  United Kingdom        17850  "
      ]
     },
     "execution_count": 14,
     "metadata": {},
     "output_type": "execute_result"
    }
   ],
   "source": [
    "# invoice date\n",
    "df1['invoice_date'] = pd.to_datetime( df1['invoice_date'], format='%d-%b-%y' )\n",
    "\n",
    "# customer id\n",
    "df1['customer_id'] = df1['customer_id'].astype( int )\n",
    "df1.head()"
   ]
  },
  {
   "cell_type": "markdown",
   "id": "efdbc817",
   "metadata": {},
   "source": [
    "### 1.6.1 Final Check"
   ]
  },
  {
   "cell_type": "code",
   "execution_count": 15,
   "id": "dbdd04fc",
   "metadata": {
    "ExecuteTime": {
     "end_time": "2023-09-12T13:24:50.268086Z",
     "start_time": "2023-09-12T13:24:50.258638Z"
    }
   },
   "outputs": [
    {
     "data": {
      "text/plain": [
       "invoice_no              object\n",
       "stock_code              object\n",
       "description             object\n",
       "quantity                 int64\n",
       "invoice_date    datetime64[ns]\n",
       "unit_price             float64\n",
       "country                 object\n",
       "customer_id              int64\n",
       "dtype: object"
      ]
     },
     "execution_count": 15,
     "metadata": {},
     "output_type": "execute_result"
    }
   ],
   "source": [
    "df1.dtypes"
   ]
  },
  {
   "cell_type": "markdown",
   "id": "768448b2",
   "metadata": {},
   "source": [
    "## 1.7 Descriptive Estatistical"
   ]
  },
  {
   "cell_type": "code",
   "execution_count": 16,
   "id": "1d42c89e",
   "metadata": {
    "ExecuteTime": {
     "end_time": "2023-09-12T13:24:51.370861Z",
     "start_time": "2023-09-12T13:24:51.324168Z"
    }
   },
   "outputs": [],
   "source": [
    "num_attributes = df1.select_dtypes( include=['int64', 'float64'] )\n",
    "cat_attributes = df1.select_dtypes( exclude=['int64', 'float64', 'datetime64[ns]'] )"
   ]
  },
  {
   "cell_type": "markdown",
   "id": "b6c96195",
   "metadata": {},
   "source": [
    "### 1.7.1 Numerical Attributes"
   ]
  },
  {
   "cell_type": "code",
   "execution_count": 17,
   "id": "cc65fd54",
   "metadata": {
    "ExecuteTime": {
     "end_time": "2023-09-12T13:24:52.305680Z",
     "start_time": "2023-09-12T13:24:52.228404Z"
    }
   },
   "outputs": [
    {
     "data": {
      "text/html": [
       "<div>\n",
       "<style scoped>\n",
       "    .dataframe tbody tr th:only-of-type {\n",
       "        vertical-align: middle;\n",
       "    }\n",
       "\n",
       "    .dataframe tbody tr th {\n",
       "        vertical-align: top;\n",
       "    }\n",
       "\n",
       "    .dataframe thead th {\n",
       "        text-align: right;\n",
       "    }\n",
       "</style>\n",
       "<table border=\"1\" class=\"dataframe\">\n",
       "  <thead>\n",
       "    <tr style=\"text-align: right;\">\n",
       "      <th></th>\n",
       "      <th>attributes</th>\n",
       "      <th>min</th>\n",
       "      <th>max</th>\n",
       "      <th>range</th>\n",
       "      <th>mean</th>\n",
       "      <th>mediana</th>\n",
       "      <th>std</th>\n",
       "      <th>skew</th>\n",
       "      <th>kurtosis</th>\n",
       "    </tr>\n",
       "  </thead>\n",
       "  <tbody>\n",
       "    <tr>\n",
       "      <th>0</th>\n",
       "      <td>quantity</td>\n",
       "      <td>-80995.00</td>\n",
       "      <td>80995.0</td>\n",
       "      <td>161990.00</td>\n",
       "      <td>9.552250</td>\n",
       "      <td>3.00</td>\n",
       "      <td>218.080957</td>\n",
       "      <td>-0.264076</td>\n",
       "      <td>119769.160031</td>\n",
       "    </tr>\n",
       "    <tr>\n",
       "      <th>1</th>\n",
       "      <td>unit_price</td>\n",
       "      <td>-11062.06</td>\n",
       "      <td>38970.0</td>\n",
       "      <td>50032.06</td>\n",
       "      <td>4.611114</td>\n",
       "      <td>2.08</td>\n",
       "      <td>96.759764</td>\n",
       "      <td>186.506972</td>\n",
       "      <td>59005.719097</td>\n",
       "    </tr>\n",
       "    <tr>\n",
       "      <th>2</th>\n",
       "      <td>customer_id</td>\n",
       "      <td>12346.00</td>\n",
       "      <td>22709.0</td>\n",
       "      <td>10363.00</td>\n",
       "      <td>16688.840453</td>\n",
       "      <td>16249.00</td>\n",
       "      <td>2911.408666</td>\n",
       "      <td>0.487449</td>\n",
       "      <td>-0.804287</td>\n",
       "    </tr>\n",
       "  </tbody>\n",
       "</table>\n",
       "</div>"
      ],
      "text/plain": [
       "    attributes       min      max      range          mean   mediana  \\\n",
       "0     quantity -80995.00  80995.0  161990.00      9.552250      3.00   \n",
       "1   unit_price -11062.06  38970.0   50032.06      4.611114      2.08   \n",
       "2  customer_id  12346.00  22709.0   10363.00  16688.840453  16249.00   \n",
       "\n",
       "           std        skew       kurtosis  \n",
       "0   218.080957   -0.264076  119769.160031  \n",
       "1    96.759764  186.506972   59005.719097  \n",
       "2  2911.408666    0.487449      -0.804287  "
      ]
     },
     "execution_count": 17,
     "metadata": {},
     "output_type": "execute_result"
    }
   ],
   "source": [
    "# central tendency - mean, median\n",
    "ct1 = pd.DataFrame( num_attributes.apply( np.mean ) ).T\n",
    "ct2 = pd.DataFrame( num_attributes.apply( np.median ) ).T\n",
    "             \n",
    "# dispersion - desvio padrão, minimo, maximo, range, skew, kurtosis\n",
    "d1 = pd.DataFrame( num_attributes.apply( np.std ) ).T\n",
    "d2 = pd.DataFrame( num_attributes.apply( np.min ) ).T\n",
    "d3 = pd.DataFrame( num_attributes.apply( np.max ) ).T\n",
    "d4 = pd.DataFrame( num_attributes.apply( lambda x: x.max() - x.min() ) ).T\n",
    "d5 = pd.DataFrame( num_attributes.apply( lambda x: x.skew() ) ).T\n",
    "d6 = pd.DataFrame( num_attributes.apply( lambda x: x.kurtosis() ) ).T\n",
    "\n",
    "# concatenate\n",
    "m = pd.concat( [d2, d3, d4, ct1, ct2, d1, d5, d6] ).T.reset_index()\n",
    "m.columns = ['attributes', 'min', 'max', 'range', 'mean', 'mediana', 'std', 'skew', 'kurtosis']\n",
    "m"
   ]
  },
  {
   "cell_type": "markdown",
   "id": "52c453d6",
   "metadata": {},
   "source": [
    "### 1.7.2 Categorical Attributes"
   ]
  },
  {
   "cell_type": "markdown",
   "id": "bf463798",
   "metadata": {},
   "source": [
    "#### 1.7.2.1 Invoice No"
   ]
  },
  {
   "cell_type": "code",
   "execution_count": 18,
   "id": "96aed9ad",
   "metadata": {
    "ExecuteTime": {
     "end_time": "2023-09-12T13:24:54.166039Z",
     "start_time": "2023-09-12T13:24:53.857811Z"
    }
   },
   "outputs": [
    {
     "name": "stdout",
     "output_type": "stream",
     "text": [
      "Total number of invoices: 9291\n",
      "Total number of negative quantity: 9288\n"
     ]
    }
   ],
   "source": [
    "# Temos invoice com letras e numeros\n",
    "\n",
    "# Identficacao: \n",
    "df_letter_invoices = df1.loc[df1['invoice_no'].apply( lambda x: bool( re.search( '[^0-9]+', x ) ) ), :]\n",
    "df_letter_invoices.head()\n",
    "\n",
    "print( 'Total number of invoices: {}'.format( len( df_letter_invoices ) ) )\n",
    "print( 'Total number of negative quantity: {}'.format( len( df_letter_invoices[ df_letter_invoices['quantity'] < 0 ] ) ) )"
   ]
  },
  {
   "cell_type": "markdown",
   "id": "df750299",
   "metadata": {},
   "source": [
    "#### 1.7.2.2 Stock Code"
   ]
  },
  {
   "cell_type": "code",
   "execution_count": 19,
   "id": "8b29bb8a",
   "metadata": {
    "ExecuteTime": {
     "end_time": "2023-09-12T13:24:55.223965Z",
     "start_time": "2023-09-12T13:24:54.940295Z"
    }
   },
   "outputs": [
    {
     "data": {
      "text/plain": [
       "array(['POST', 'D', 'DOT', 'M', 'S', 'AMAZONFEE', 'm', 'DCGSSBOY',\n",
       "       'DCGSSGIRL', 'PADS', 'B', 'CRUK'], dtype=object)"
      ]
     },
     "execution_count": 19,
     "metadata": {},
     "output_type": "execute_result"
    }
   ],
   "source": [
    "# Checagem do stock code \n",
    "df1.loc[df1['stock_code'].apply( lambda x: bool( re.search( '^[a-zA-Z]+$', x ) ) ), 'stock_code'].unique()"
   ]
  },
  {
   "cell_type": "markdown",
   "id": "247e5aad",
   "metadata": {},
   "source": [
    "# 2.0 Variable Filtering"
   ]
  },
  {
   "cell_type": "code",
   "execution_count": 20,
   "id": "abffcf45",
   "metadata": {
    "ExecuteTime": {
     "end_time": "2023-09-12T13:24:56.562900Z",
     "start_time": "2023-09-12T13:24:56.544608Z"
    }
   },
   "outputs": [],
   "source": [
    "df2 = df1.copy()"
   ]
  },
  {
   "cell_type": "code",
   "execution_count": 21,
   "id": "1a3f6f29",
   "metadata": {
    "ExecuteTime": {
     "end_time": "2023-09-12T13:24:57.610599Z",
     "start_time": "2023-09-12T13:24:57.424438Z"
    }
   },
   "outputs": [],
   "source": [
    "# === Numerical attributes ====\n",
    "df2 = df2.loc[df2['unit_price'] >= 0.04, :]\n",
    "\n",
    "# === Categorical attributes ====\n",
    "df2 = df2[~df2['stock_code'].isin( ['POST', 'D', 'M', 'PADS', 'DOT', 'CRUK'] )]\n",
    "\n",
    "# description\n",
    "df2 = df2.drop( columns='description', axis=1 )\n",
    "\n",
    "# map \n",
    "df2 = df2[~df2['country'].isin( ['European Community', 'Unspecified' ] ) ]\n",
    "\n",
    "# quantity\n",
    "df2_returns = df2.loc[df1['quantity'] < 0, :]\n",
    "df2_purchases = df2.loc[df1['quantity'] >= 0, :]"
   ]
  },
  {
   "cell_type": "markdown",
   "id": "084a48da",
   "metadata": {},
   "source": [
    "# 3.0 Feature Engineering"
   ]
  },
  {
   "cell_type": "code",
   "execution_count": 22,
   "id": "e02f6548",
   "metadata": {
    "ExecuteTime": {
     "end_time": "2023-09-12T13:24:58.828350Z",
     "start_time": "2023-09-12T13:24:58.808297Z"
    }
   },
   "outputs": [],
   "source": [
    "df3 = df2.copy()"
   ]
  },
  {
   "cell_type": "markdown",
   "id": "d10231e8",
   "metadata": {},
   "source": [
    "## Modelo RFM\n",
    "\n",
    "RFM é a junção de três siglas: Recência, Frequência e Monetaridade. Essa técnica lhe permitirá entender melhor seu cliente ao verificar quando foi sua última compra, quantas vezes ele já comprou e quanto já gastou com sua empresa. Nesse sentido, tem como principal objetivo fidelizar e recompensar quem já ama a marca e reativar quem está prestes a deixar de usá-la, munindo-se de uma técnica chamada Targeting Marketing. Nessa técnica, campanhas e ações são direcionadas à pessoas que fazem parte de um mesmo segmento, visando assim uma taxa de conversão maior e, consequentemente, maior receita.\n",
    "\n",
    "- Recency( Recência ): Tempo desde a última compra\n",
    "\n",
    "- Frequency( Frequência ): Frequência de compra\n",
    "\n",
    "- Monetary( Valor gasto ): Valor total de compra"
   ]
  },
  {
   "cell_type": "code",
   "execution_count": 36,
   "id": "96bf3fb8",
   "metadata": {
    "ExecuteTime": {
     "end_time": "2023-09-12T13:27:53.245082Z",
     "start_time": "2023-09-12T13:27:53.224252Z"
    }
   },
   "outputs": [],
   "source": [
    "# data reference\n",
    "df_ref = df3.drop( ['invoice_no', 'stock_code', 'quantity', 'invoice_date', 'unit_price', 'country'], axis=1 ).drop_duplicates( ignore_index=True )"
   ]
  },
  {
   "cell_type": "markdown",
   "id": "5c1dcba2",
   "metadata": {},
   "source": [
    "## 3.1 Gross Revenue"
   ]
  },
  {
   "cell_type": "code",
   "execution_count": 37,
   "id": "6d16c865",
   "metadata": {
    "ExecuteTime": {
     "end_time": "2023-09-12T13:27:54.354782Z",
     "start_time": "2023-09-12T13:27:54.312597Z"
    }
   },
   "outputs": [
    {
     "name": "stderr",
     "output_type": "stream",
     "text": [
      "/var/folders/wt/4bhdq9gj4vnbrm086fldm7z80000gn/T/ipykernel_1534/206990356.py:2: SettingWithCopyWarning: \n",
      "A value is trying to be set on a copy of a slice from a DataFrame.\n",
      "Try using .loc[row_indexer,col_indexer] = value instead\n",
      "\n",
      "See the caveats in the documentation: https://pandas.pydata.org/pandas-docs/stable/user_guide/indexing.html#returning-a-view-versus-a-copy\n",
      "  df2_purchases.loc[:, 'gross_revenue'] = df2_purchases.loc[:, 'quantity'] * df2_purchases.loc[:, 'unit_price']\n"
     ]
    },
    {
     "data": {
      "text/plain": [
       "customer_id        0\n",
       "gross_revenue    140\n",
       "dtype: int64"
      ]
     },
     "execution_count": 37,
     "metadata": {},
     "output_type": "execute_result"
    }
   ],
   "source": [
    "# Gross Revenue ( Faturamento ) quantity * price\n",
    "df2_purchases.loc[:, 'gross_revenue'] = df2_purchases.loc[:, 'quantity'] * df2_purchases.loc[:, 'unit_price']\n",
    "\n",
    "# Monetary\n",
    "df_monetary = df2_purchases.loc[:, ['customer_id', 'gross_revenue']].groupby( 'customer_id' ).sum().reset_index()\n",
    "df_ref = pd.merge( df_ref, df_monetary, on='customer_id', how='left' )\n",
    "df_ref.isna().sum()"
   ]
  },
  {
   "cell_type": "markdown",
   "id": "9abe5875",
   "metadata": {},
   "source": [
    "## 3.2 Recency"
   ]
  },
  {
   "cell_type": "code",
   "execution_count": 38,
   "id": "4672fd1c",
   "metadata": {
    "ExecuteTime": {
     "end_time": "2023-09-12T13:27:55.594798Z",
     "start_time": "2023-09-12T13:27:55.557853Z"
    }
   },
   "outputs": [
    {
     "data": {
      "text/plain": [
       "customer_id        0\n",
       "gross_revenue    140\n",
       "recency_days     140\n",
       "dtype: int64"
      ]
     },
     "execution_count": 38,
     "metadata": {},
     "output_type": "execute_result"
    }
   ],
   "source": [
    "# Recency - Last day purchase\n",
    "df_recency = df2_purchases.loc[:, ['customer_id', 'invoice_date']].groupby( 'customer_id' ).max().reset_index()\n",
    "df_recency['recency_days'] = ( df2['invoice_date'].max() - df_recency['invoice_date'] ).dt.days\n",
    "df_recency = df_recency[['customer_id', 'recency_days']].copy()\n",
    "df_ref = pd.merge( df_ref, df_recency, on='customer_id', how='left' )\n",
    "df_ref.isna().sum()"
   ]
  },
  {
   "cell_type": "markdown",
   "id": "4963cff5",
   "metadata": {},
   "source": [
    "## 3.5 Quantity of products purchased"
   ]
  },
  {
   "cell_type": "code",
   "execution_count": 39,
   "id": "8f1e90e7",
   "metadata": {
    "ExecuteTime": {
     "end_time": "2023-09-12T13:27:56.594323Z",
     "start_time": "2023-09-12T13:27:56.507722Z"
    }
   },
   "outputs": [
    {
     "data": {
      "text/plain": [
       "customer_id        0\n",
       "gross_revenue    140\n",
       "recency_days     140\n",
       "qtde_products    140\n",
       "dtype: int64"
      ]
     },
     "execution_count": 39,
     "metadata": {},
     "output_type": "execute_result"
    }
   ],
   "source": [
    "# Numero de produtos\n",
    "df_freq = (df2_purchases.loc[:, ['customer_id', 'stock_code']].groupby( 'customer_id' ).count()\n",
    "                                                           .reset_index()\n",
    "                                                           .rename( columns={'stock_code': 'qtde_products'} ) )\n",
    "df_ref = pd.merge( df_ref, df_freq, on='customer_id', how='left' )\n",
    "df_ref.isna().sum()"
   ]
  },
  {
   "cell_type": "markdown",
   "id": "0a6d4227",
   "metadata": {},
   "source": [
    "## 3.7 Frequency Purchase"
   ]
  },
  {
   "cell_type": "code",
   "execution_count": 40,
   "id": "cf65f6f1",
   "metadata": {
    "ExecuteTime": {
     "end_time": "2023-09-12T13:27:57.920874Z",
     "start_time": "2023-09-12T13:27:57.524445Z"
    }
   },
   "outputs": [
    {
     "data": {
      "text/plain": [
       "customer_id        0\n",
       "gross_revenue    140\n",
       "recency_days     140\n",
       "qtde_products    140\n",
       "frequency        140\n",
       "dtype: int64"
      ]
     },
     "execution_count": 40,
     "metadata": {},
     "output_type": "execute_result"
    }
   ],
   "source": [
    "df_aux = ( df2_purchases[['customer_id', 'invoice_no', 'invoice_date']].drop_duplicates()\n",
    "                                                             .groupby( 'customer_id')\n",
    "                                                             .agg( max_ = ( 'invoice_date', 'max' ), \n",
    "                                                                   min_ = ( 'invoice_date', 'min' ),\n",
    "                                                                   days_= ( 'invoice_date', lambda x: ( ( x.max() - x.min() ).days ) + 1 ),\n",
    "                                                                   buy_ = ( 'invoice_no', 'count' ) ) ).reset_index()\n",
    "# Frequency\n",
    "df_aux['frequency'] = df_aux[['buy_', 'days_']].apply( lambda x: x['buy_'] / x['days_'] if  x['days_'] != 0 else 0, axis=1 )\n",
    "\n",
    "# Merge\n",
    "df_ref = pd.merge( df_ref, df_aux[['customer_id', 'frequency']], on='customer_id', how='left' )\n",
    "\n",
    "df_ref.isna().sum()"
   ]
  },
  {
   "cell_type": "markdown",
   "id": "5e485fd1",
   "metadata": {},
   "source": [
    "## 3.8 Number of Returns"
   ]
  },
  {
   "cell_type": "code",
   "execution_count": 41,
   "id": "ae469cf3",
   "metadata": {
    "ExecuteTime": {
     "end_time": "2023-09-12T13:28:00.027243Z",
     "start_time": "2023-09-12T13:28:00.005792Z"
    }
   },
   "outputs": [
    {
     "data": {
      "text/plain": [
       "customer_id        0\n",
       "gross_revenue    140\n",
       "recency_days     140\n",
       "qtde_products    140\n",
       "frequency        140\n",
       "qtde_returns       0\n",
       "dtype: int64"
      ]
     },
     "execution_count": 41,
     "metadata": {},
     "output_type": "execute_result"
    }
   ],
   "source": [
    "# Number of Returns\n",
    "df_returns = df2_returns[['customer_id', 'quantity']].groupby( 'customer_id' ).sum().reset_index().rename( columns={'quantity':'qtde_returns'} )\n",
    "df_returns['qtde_returns'] = df_returns['qtde_returns'] * -1\n",
    "\n",
    "df_ref = pd.merge( df_ref, df_returns, how='left', on='customer_id' )\n",
    "df_ref.loc[df_ref['qtde_returns'].isna(), 'qtde_returns'] = 0\n",
    "\n",
    "df_ref.isna().sum()"
   ]
  },
  {
   "cell_type": "markdown",
   "id": "585157ab",
   "metadata": {},
   "source": [
    "# 4.0 EDA"
   ]
  },
  {
   "cell_type": "code",
   "execution_count": 42,
   "id": "77fac57b",
   "metadata": {
    "ExecuteTime": {
     "end_time": "2023-09-12T13:28:28.447056Z",
     "start_time": "2023-09-12T13:28:28.424061Z"
    }
   },
   "outputs": [],
   "source": [
    "df4 = df3.copy()"
   ]
  },
  {
   "cell_type": "code",
   "execution_count": 43,
   "id": "2874c871",
   "metadata": {
    "ExecuteTime": {
     "end_time": "2023-09-12T13:28:28.865442Z",
     "start_time": "2023-09-12T13:28:28.842105Z"
    }
   },
   "outputs": [
    {
     "data": {
      "text/plain": [
       "customer_id      0\n",
       "gross_revenue    0\n",
       "recency_days     0\n",
       "qtde_products    0\n",
       "frequency        0\n",
       "qtde_returns     0\n",
       "dtype: int64"
      ]
     },
     "execution_count": 43,
     "metadata": {},
     "output_type": "execute_result"
    }
   ],
   "source": [
    "df4 = df_ref.dropna()\n",
    "df4.isna().sum()"
   ]
  },
  {
   "cell_type": "markdown",
   "id": "d1369b40",
   "metadata": {},
   "source": [
    "## 4.3. Estudo do Espaço"
   ]
  },
  {
   "cell_type": "code",
   "execution_count": 44,
   "id": "383725ed",
   "metadata": {
    "ExecuteTime": {
     "end_time": "2023-09-12T13:29:28.885468Z",
     "start_time": "2023-09-12T13:29:28.875154Z"
    }
   },
   "outputs": [],
   "source": [
    "# selected dataset\n",
    "cols_selected = ['customer_id', 'gross_revenue', 'recency_days', 'qtde_products', 'frequency', 'qtde_returns']\n",
    "df43 = df4[ cols_selected ].drop( columns='customer_id', axis=1 )"
   ]
  },
  {
   "cell_type": "code",
   "execution_count": 45,
   "id": "36a05682",
   "metadata": {
    "ExecuteTime": {
     "end_time": "2023-09-12T13:29:29.540031Z",
     "start_time": "2023-09-12T13:29:29.525107Z"
    }
   },
   "outputs": [
    {
     "data": {
      "text/html": [
       "<div>\n",
       "<style scoped>\n",
       "    .dataframe tbody tr th:only-of-type {\n",
       "        vertical-align: middle;\n",
       "    }\n",
       "\n",
       "    .dataframe tbody tr th {\n",
       "        vertical-align: top;\n",
       "    }\n",
       "\n",
       "    .dataframe thead th {\n",
       "        text-align: right;\n",
       "    }\n",
       "</style>\n",
       "<table border=\"1\" class=\"dataframe\">\n",
       "  <thead>\n",
       "    <tr style=\"text-align: right;\">\n",
       "      <th></th>\n",
       "      <th>gross_revenue</th>\n",
       "      <th>recency_days</th>\n",
       "      <th>qtde_products</th>\n",
       "      <th>frequency</th>\n",
       "      <th>qtde_returns</th>\n",
       "    </tr>\n",
       "  </thead>\n",
       "  <tbody>\n",
       "    <tr>\n",
       "      <th>0</th>\n",
       "      <td>5391.21</td>\n",
       "      <td>372.0</td>\n",
       "      <td>297.0</td>\n",
       "      <td>17.000000</td>\n",
       "      <td>40.0</td>\n",
       "    </tr>\n",
       "    <tr>\n",
       "      <th>1</th>\n",
       "      <td>3232.59</td>\n",
       "      <td>56.0</td>\n",
       "      <td>171.0</td>\n",
       "      <td>0.028302</td>\n",
       "      <td>35.0</td>\n",
       "    </tr>\n",
       "    <tr>\n",
       "      <th>2</th>\n",
       "      <td>6705.38</td>\n",
       "      <td>2.0</td>\n",
       "      <td>232.0</td>\n",
       "      <td>0.040323</td>\n",
       "      <td>50.0</td>\n",
       "    </tr>\n",
       "    <tr>\n",
       "      <th>3</th>\n",
       "      <td>948.25</td>\n",
       "      <td>95.0</td>\n",
       "      <td>28.0</td>\n",
       "      <td>0.017921</td>\n",
       "      <td>0.0</td>\n",
       "    </tr>\n",
       "    <tr>\n",
       "      <th>4</th>\n",
       "      <td>876.00</td>\n",
       "      <td>333.0</td>\n",
       "      <td>3.0</td>\n",
       "      <td>0.073171</td>\n",
       "      <td>22.0</td>\n",
       "    </tr>\n",
       "  </tbody>\n",
       "</table>\n",
       "</div>"
      ],
      "text/plain": [
       "   gross_revenue  recency_days  qtde_products  frequency  qtde_returns\n",
       "0        5391.21         372.0          297.0  17.000000          40.0\n",
       "1        3232.59          56.0          171.0   0.028302          35.0\n",
       "2        6705.38           2.0          232.0   0.040323          50.0\n",
       "3         948.25          95.0           28.0   0.017921           0.0\n",
       "4         876.00         333.0            3.0   0.073171          22.0"
      ]
     },
     "execution_count": 45,
     "metadata": {},
     "output_type": "execute_result"
    }
   ],
   "source": [
    "df43.head()"
   ]
  },
  {
   "cell_type": "code",
   "execution_count": 46,
   "id": "84aee377",
   "metadata": {
    "ExecuteTime": {
     "end_time": "2023-09-12T13:29:31.366068Z",
     "start_time": "2023-09-12T13:29:31.339324Z"
    }
   },
   "outputs": [],
   "source": [
    "mm = pp.MinMaxScaler()\n",
    "\n",
    "df43['gross_revenue'] = mm.fit_transform( df43[['gross_revenue']] )\n",
    "df43['recency_days']  = mm.fit_transform( df43[['recency_days']] )\n",
    "df43['qtde_products'] = mm.fit_transform( df43[['qtde_products']])\n",
    "df43['frequency']     = mm.fit_transform( df43[['frequency']])\n",
    "df43['qtde_returns']  = mm.fit_transform( df43[['qtde_returns']])\n",
    "\n",
    "X = df43.copy()"
   ]
  },
  {
   "cell_type": "code",
   "execution_count": 47,
   "id": "858164b9",
   "metadata": {
    "ExecuteTime": {
     "end_time": "2023-09-12T13:29:35.864854Z",
     "start_time": "2023-09-12T13:29:35.857680Z"
    }
   },
   "outputs": [
    {
     "data": {
      "text/plain": [
       "(5701, 5)"
      ]
     },
     "execution_count": 47,
     "metadata": {},
     "output_type": "execute_result"
    }
   ],
   "source": [
    "X.shape"
   ]
  },
  {
   "cell_type": "markdown",
   "id": "e8b1f9a6",
   "metadata": {},
   "source": [
    "### 4.3.1 PCA"
   ]
  },
  {
   "cell_type": "code",
   "execution_count": 48,
   "id": "01d64165",
   "metadata": {
    "ExecuteTime": {
     "end_time": "2023-09-12T13:29:41.204185Z",
     "start_time": "2023-09-12T13:29:41.055854Z"
    }
   },
   "outputs": [
    {
     "data": {
      "image/png": "[encoded data removed]",
      "text/plain": [
       "<Figure size 640x480 with 1 Axes>"
      ]
     },
     "metadata": {},
     "output_type": "display_data"
    }
   ],
   "source": [
    "pca = dd.PCA( n_components=X.shape[1] )\n",
    "\n",
    "principal_components = pca.fit_transform( X )\n",
    "\n",
    "# plot explained variable\n",
    "features = range( pca.n_components_ )\n",
    "\n",
    "plt.bar( features, pca.explained_variance_ratio_, color='black' )\n",
    "plt.xlabel('PCA features')\n",
    "plt.ylabel('Variance')\n",
    "plt.xticks(features)\n",
    "\n",
    "# pca component\n",
    "df_pca = pd.DataFrame( principal_components )"
   ]
  },
  {
   "cell_type": "code",
   "execution_count": 49,
   "id": "094c887c",
   "metadata": {
    "ExecuteTime": {
     "end_time": "2023-09-12T13:29:42.876308Z",
     "start_time": "2023-09-12T13:29:42.757619Z"
    }
   },
   "outputs": [
    {
     "data": {
      "text/plain": [
       "<Axes: xlabel='0', ylabel='1'>"
      ]
     },
     "execution_count": 49,
     "metadata": {},
     "output_type": "execute_result"
    },
    {
     "data": {
      "image/png": "[encoded data removed]",
      "text/plain": [
       "<Figure size 640x480 with 1 Axes>"
      ]
     },
     "metadata": {},
     "output_type": "display_data"
    }
   ],
   "source": [
    "sns.scatterplot( x=0, y=1, data=df_pca ) "
   ]
  },
  {
   "cell_type": "markdown",
   "id": "ff7f69a7",
   "metadata": {},
   "source": [
    "### 4.3.2. UMAP"
   ]
  },
  {
   "cell_type": "code",
   "execution_count": 50,
   "id": "021eb09f",
   "metadata": {
    "ExecuteTime": {
     "end_time": "2023-09-12T13:30:14.068564Z",
     "start_time": "2023-09-12T13:30:00.140387Z"
    }
   },
   "outputs": [
    {
     "data": {
      "text/plain": [
       "<Axes: xlabel='embedding_x', ylabel='embedding_y'>"
      ]
     },
     "execution_count": 50,
     "metadata": {},
     "output_type": "execute_result"
    },
    {
     "data": {
      "image/png": "[encoded data removed]",
      "text/plain": [
       "<Figure size 640x480 with 1 Axes>"
      ]
     },
     "metadata": {},
     "output_type": "display_data"
    }
   ],
   "source": [
    "reducer = umap.UMAP( random_state=42 )\n",
    "embedding = reducer.fit_transform( X )\n",
    "\n",
    "# embedding\n",
    "df_umap = pd.DataFrame()\n",
    "df_umap['embedding_x'] = embedding[:, 0]\n",
    "df_umap['embedding_y'] = embedding[:, 1]\n",
    "\n",
    "# plot UMAP\n",
    "sns.scatterplot( x='embedding_x', \n",
    "                 y='embedding_y', \n",
    "                 data=df_umap )"
   ]
  },
  {
   "cell_type": "markdown",
   "id": "b422d48d",
   "metadata": {},
   "source": [
    "### 4.3.2. t-SNE"
   ]
  },
  {
   "cell_type": "code",
   "execution_count": 51,
   "id": "2dbab10b",
   "metadata": {
    "ExecuteTime": {
     "end_time": "2023-09-12T13:30:28.237504Z",
     "start_time": "2023-09-12T13:30:16.980357Z"
    }
   },
   "outputs": [
    {
     "data": {
      "text/plain": [
       "<Axes: xlabel='embedding_x', ylabel='embedding_y'>"
      ]
     },
     "execution_count": 51,
     "metadata": {},
     "output_type": "execute_result"
    },
    {
     "data": {
      "image/png": "[encoded data removed]",
      "text/plain": [
       "<Figure size 640x480 with 1 Axes>"
      ]
     },
     "metadata": {},
     "output_type": "display_data"
    }
   ],
   "source": [
    "reducer = mn.TSNE( n_components=2, n_jobs=-1, random_state=42 )\n",
    "embedding = reducer.fit_transform( X )\n",
    "\n",
    "# embedding\n",
    "df_tsne = pd.DataFrame()\n",
    "df_tsne['embedding_x'] = embedding[:, 0]\n",
    "df_tsne['embedding_y'] = embedding[:, 1]\n",
    "\n",
    "# plot UMAP\n",
    "sns.scatterplot( x='embedding_x', \n",
    "                 y='embedding_y', \n",
    "                 data=df_tsne )"
   ]
  },
  {
   "cell_type": "markdown",
   "id": "187e75ce",
   "metadata": {},
   "source": [
    "### 4.3.3. Tree-Based Embedding"
   ]
  },
  {
   "cell_type": "code",
   "execution_count": 52,
   "id": "c636ff73",
   "metadata": {
    "ExecuteTime": {
     "end_time": "2023-09-12T13:31:08.140111Z",
     "start_time": "2023-09-12T13:31:07.152199Z"
    }
   },
   "outputs": [],
   "source": [
    "# training dataset\n",
    "X = df43.drop( columns=['gross_revenue'], axis=1 )\n",
    "y = df43['gross_revenue']\n",
    "\n",
    "# model definition\n",
    "rf_model = en.RandomForestRegressor( n_estimators=100, random_state=42 )\n",
    "\n",
    "# model training\n",
    "rf_model.fit( X, y )\n",
    "\n",
    "# Leaf \n",
    "df_leaf = pd.DataFrame( rf_model.apply( X ) )"
   ]
  },
  {
   "cell_type": "code",
   "execution_count": 53,
   "id": "3e88f8b8",
   "metadata": {
    "ExecuteTime": {
     "end_time": "2023-09-12T13:31:16.954364Z",
     "start_time": "2023-09-12T13:31:10.249105Z"
    }
   },
   "outputs": [
    {
     "name": "stderr",
     "output_type": "stream",
     "text": [
      "/Users/luishmq/.pyenv/versions/3.8.13/envs/insiders_clustering/lib/python3.8/site-packages/sklearn/manifold/_spectral_embedding.py:274: UserWarning: Graph is not fully connected, spectral embedding may not work as expected.\n",
      "  warnings.warn(\n"
     ]
    },
    {
     "data": {
      "text/plain": [
       "<Axes: xlabel='embedding_x', ylabel='embedding_y'>"
      ]
     },
     "execution_count": 53,
     "metadata": {},
     "output_type": "execute_result"
    },
    {
     "data": {
      "image/png": "[encoded data removed]",
      "text/plain": [
       "<Figure size 640x480 with 1 Axes>"
      ]
     },
     "metadata": {},
     "output_type": "display_data"
    }
   ],
   "source": [
    "# Reduzer dimensionality\n",
    "reducer = umap.UMAP( random_state=42 )\n",
    "embedding = reducer.fit_transform( df_leaf )\n",
    "\n",
    "# embedding\n",
    "df_tree = pd.DataFrame()\n",
    "df_tree['embedding_x'] = embedding[:, 0]\n",
    "df_tree['embedding_y'] = embedding[:, 1]\n",
    "\n",
    "# plot UMAP\n",
    "sns.scatterplot( x='embedding_x', \n",
    "                 y='embedding_y', \n",
    "                 data=df_tree )"
   ]
  },
  {
   "cell_type": "markdown",
   "id": "f9c511b4",
   "metadata": {},
   "source": [
    "# 5.0 Data Preparation"
   ]
  },
  {
   "cell_type": "code",
   "execution_count": 122,
   "id": "87846b7a",
   "metadata": {
    "ExecuteTime": {
     "end_time": "2023-09-12T14:59:49.322212Z",
     "start_time": "2023-09-12T14:59:49.309224Z"
    }
   },
   "outputs": [
    {
     "data": {
      "text/plain": [
       "'/Users/luishmq/Documents/repos/customers_clustering/notebooks'"
      ]
     },
     "execution_count": 122,
     "metadata": {},
     "output_type": "execute_result"
    }
   ],
   "source": [
    "pwd"
   ]
  },
  {
   "cell_type": "code",
   "execution_count": 106,
   "id": "8f4398ca",
   "metadata": {
    "ExecuteTime": {
     "end_time": "2023-09-12T14:00:54.309961Z",
     "start_time": "2023-09-12T14:00:54.278606Z"
    }
   },
   "outputs": [],
   "source": [
    "# Tree-Based Embedding\n",
    "path2 = '/Users/luishmq/Documents/repos/customers_clustering/'\n",
    "\n",
    "df5 = df_tree.copy()\n",
    "df5.to_csv( path2 + 'src/data/tree_based_embedding.csv', index=False)\n",
    "\n",
    "# UMAP Embedding\n",
    "#df5 = df_umap.copy()\n",
    "\n",
    "# TSNE Embedding\n",
    "#df5 = df_tsne.copy()"
   ]
  },
  {
   "cell_type": "markdown",
   "id": "32ac669e",
   "metadata": {},
   "source": [
    "# 7.0 Hyperparameter Fine-Tunning "
   ]
  },
  {
   "cell_type": "code",
   "execution_count": 81,
   "id": "ee3c34a5",
   "metadata": {
    "ExecuteTime": {
     "end_time": "2023-09-12T13:44:43.172389Z",
     "start_time": "2023-09-12T13:44:43.169132Z"
    }
   },
   "outputs": [],
   "source": [
    "X = df5.copy()"
   ]
  },
  {
   "cell_type": "code",
   "execution_count": 82,
   "id": "9cf39654",
   "metadata": {
    "ExecuteTime": {
     "end_time": "2023-09-12T13:44:43.641880Z",
     "start_time": "2023-09-12T13:44:43.629068Z"
    }
   },
   "outputs": [
    {
     "data": {
      "text/html": [
       "<div>\n",
       "<style scoped>\n",
       "    .dataframe tbody tr th:only-of-type {\n",
       "        vertical-align: middle;\n",
       "    }\n",
       "\n",
       "    .dataframe tbody tr th {\n",
       "        vertical-align: top;\n",
       "    }\n",
       "\n",
       "    .dataframe thead th {\n",
       "        text-align: right;\n",
       "    }\n",
       "</style>\n",
       "<table border=\"1\" class=\"dataframe\">\n",
       "  <thead>\n",
       "    <tr style=\"text-align: right;\">\n",
       "      <th></th>\n",
       "      <th>embedding_x</th>\n",
       "      <th>embedding_y</th>\n",
       "    </tr>\n",
       "  </thead>\n",
       "  <tbody>\n",
       "    <tr>\n",
       "      <th>0</th>\n",
       "      <td>20.458649</td>\n",
       "      <td>14.785085</td>\n",
       "    </tr>\n",
       "    <tr>\n",
       "      <th>1</th>\n",
       "      <td>18.314939</td>\n",
       "      <td>15.677023</td>\n",
       "    </tr>\n",
       "    <tr>\n",
       "      <th>2</th>\n",
       "      <td>19.438959</td>\n",
       "      <td>15.053575</td>\n",
       "    </tr>\n",
       "    <tr>\n",
       "      <th>3</th>\n",
       "      <td>-10.718366</td>\n",
       "      <td>12.002624</td>\n",
       "    </tr>\n",
       "    <tr>\n",
       "      <th>4</th>\n",
       "      <td>5.764744</td>\n",
       "      <td>-8.912737</td>\n",
       "    </tr>\n",
       "  </tbody>\n",
       "</table>\n",
       "</div>"
      ],
      "text/plain": [
       "   embedding_x  embedding_y\n",
       "0    20.458649    14.785085\n",
       "1    18.314939    15.677023\n",
       "2    19.438959    15.053575\n",
       "3   -10.718366    12.002624\n",
       "4     5.764744    -8.912737"
      ]
     },
     "execution_count": 82,
     "metadata": {},
     "output_type": "execute_result"
    }
   ],
   "source": [
    "X.head()"
   ]
  },
  {
   "cell_type": "code",
   "execution_count": 83,
   "id": "7b617a8e",
   "metadata": {
    "ExecuteTime": {
     "end_time": "2023-09-12T13:44:50.537957Z",
     "start_time": "2023-09-12T13:44:50.530123Z"
    }
   },
   "outputs": [
    {
     "data": {
      "text/plain": [
       "array([ 2,  3,  4,  5,  6,  7,  8,  9, 10, 11, 12, 13, 14, 15, 16, 17, 18,\n",
       "       19, 20, 21, 22, 23, 24])"
      ]
     },
     "execution_count": 83,
     "metadata": {},
     "output_type": "execute_result"
    }
   ],
   "source": [
    "#clusters = [2, 3, 4, 5, 6, 7, 8, 9]\n",
    "clusters = np.arange( 2, 25, 1)\n",
    "clusters"
   ]
  },
  {
   "cell_type": "markdown",
   "id": "a6c15834",
   "metadata": {},
   "source": [
    "## 7.1 K-Means"
   ]
  },
  {
   "cell_type": "code",
   "execution_count": 84,
   "id": "28febc67",
   "metadata": {
    "ExecuteTime": {
     "end_time": "2023-09-12T13:45:13.076665Z",
     "start_time": "2023-09-12T13:44:51.484073Z"
    }
   },
   "outputs": [],
   "source": [
    "kmeans_list = []\n",
    "for k in clusters:\n",
    "    # model definition\n",
    "    kmeans_model = c.KMeans( n_clusters=k, n_init=100, random_state=42 )\n",
    "\n",
    "    # model training\n",
    "    kmeans_model.fit( X )\n",
    "\n",
    "    # model predict\n",
    "    labels = kmeans_model.predict( X )\n",
    "\n",
    "    # model performance\n",
    "    sil = me.silhouette_score( X, labels, metric='euclidean' )\n",
    "    kmeans_list.append( sil )"
   ]
  },
  {
   "cell_type": "code",
   "execution_count": 85,
   "id": "02220775",
   "metadata": {
    "ExecuteTime": {
     "end_time": "2023-09-12T13:45:18.675046Z",
     "start_time": "2023-09-12T13:45:18.548073Z"
    }
   },
   "outputs": [
    {
     "data": {
      "image/png": "[encoded data removed]",
      "text/plain": [
       "<Figure size 640x480 with 1 Axes>"
      ]
     },
     "metadata": {},
     "output_type": "display_data"
    }
   ],
   "source": [
    "plt.plot( clusters, kmeans_list, linestyle='--', marker='o', color='b' )\n",
    "plt.xlabel( 'K' );\n",
    "plt.ylabel( 'Silhouette Score' );\n",
    "plt.title( 'Silhouette Score x K' );"
   ]
  },
  {
   "cell_type": "markdown",
   "id": "fe871ab9",
   "metadata": {},
   "source": [
    "## 7.2 GMM"
   ]
  },
  {
   "cell_type": "code",
   "execution_count": 86,
   "id": "ff273e33",
   "metadata": {
    "ExecuteTime": {
     "end_time": "2023-09-12T13:45:53.010942Z",
     "start_time": "2023-09-12T13:45:26.102234Z"
    }
   },
   "outputs": [],
   "source": [
    "gmm_list = []\n",
    "for k in clusters:\n",
    "    # model definition\n",
    "    gmm_model = mx.GaussianMixture( n_components=k, n_init=10, random_state=42 )\n",
    "\n",
    "    # model training\n",
    "    gmm_model.fit( X )\n",
    "\n",
    "    # model predict\n",
    "    labels = gmm_model.predict( X )\n",
    "\n",
    "    # model performance\n",
    "    sil = me.silhouette_score( X, labels, metric='euclidean' )\n",
    "    gmm_list.append( sil )"
   ]
  },
  {
   "cell_type": "code",
   "execution_count": 87,
   "id": "2573a079",
   "metadata": {
    "ExecuteTime": {
     "end_time": "2023-09-12T13:45:58.059646Z",
     "start_time": "2023-09-12T13:45:57.943655Z"
    }
   },
   "outputs": [
    {
     "data": {
      "image/png": "[encoded data removed]",
      "text/plain": [
       "<Figure size 640x480 with 1 Axes>"
      ]
     },
     "metadata": {},
     "output_type": "display_data"
    }
   ],
   "source": [
    "plt.plot( clusters, gmm_list, linestyle='--', marker='o', color='b' )\n",
    "plt.xlabel( 'k');\n",
    "plt.ylabel( 'Silhouette Score');\n",
    "plt.title( 'Sil x K');"
   ]
  },
  {
   "cell_type": "markdown",
   "id": "043558e7",
   "metadata": {},
   "source": [
    "## 7.3 Hierarchical Clustering"
   ]
  },
  {
   "cell_type": "markdown",
   "id": "8e5b5ee6",
   "metadata": {},
   "source": [
    "### 7.3.1. HClustering Silhouette Score"
   ]
  },
  {
   "cell_type": "code",
   "execution_count": 88,
   "id": "05d3b2cd",
   "metadata": {
    "ExecuteTime": {
     "end_time": "2023-09-12T13:46:01.339921Z",
     "start_time": "2023-09-12T13:46:00.977011Z"
    }
   },
   "outputs": [],
   "source": [
    "# model definition and training\n",
    "hc_model = hc.linkage( X, 'ward' )"
   ]
  },
  {
   "cell_type": "code",
   "execution_count": 89,
   "id": "7a82e14a",
   "metadata": {
    "ExecuteTime": {
     "end_time": "2023-09-12T13:46:17.930430Z",
     "start_time": "2023-09-12T13:46:02.850612Z"
    }
   },
   "outputs": [],
   "source": [
    "hc_list = []\n",
    "for k in clusters:\n",
    "    # model definition & training\n",
    "    hc_model = hc.linkage( X, 'ward' )\n",
    "\n",
    "    # model predict\n",
    "    labels = hc.fcluster( hc_model, k, criterion='maxclust' )\n",
    "\n",
    "    # metrics\n",
    "    sil = me.silhouette_score( X, labels, metric='euclidean' )\n",
    "    hc_list.append( sil )"
   ]
  },
  {
   "cell_type": "code",
   "execution_count": 90,
   "id": "f766f6e1",
   "metadata": {
    "ExecuteTime": {
     "end_time": "2023-09-12T13:46:21.224437Z",
     "start_time": "2023-09-12T13:46:21.114638Z"
    }
   },
   "outputs": [
    {
     "data": {
      "text/plain": [
       "[<matplotlib.lines.Line2D at 0x29fe043a0>]"
      ]
     },
     "execution_count": 90,
     "metadata": {},
     "output_type": "execute_result"
    },
    {
     "data": {
      "image/png": "[encoded data removed]",
      "text/plain": [
       "<Figure size 640x480 with 1 Axes>"
      ]
     },
     "metadata": {},
     "output_type": "display_data"
    }
   ],
   "source": [
    "plt.plot( clusters,  hc_list, linestyle='--', marker='o', color='b' )"
   ]
  },
  {
   "cell_type": "markdown",
   "id": "e2f011e9",
   "metadata": {},
   "source": [
    "## 7.5 Results"
   ]
  },
  {
   "cell_type": "code",
   "execution_count": 91,
   "id": "39c2b143",
   "metadata": {
    "ExecuteTime": {
     "end_time": "2023-09-12T13:46:24.069764Z",
     "start_time": "2023-09-12T13:46:24.051664Z"
    }
   },
   "outputs": [
    {
     "data": {
      "text/html": [
       "<style type=\"text/css\">\n",
       "#T_7d730_row0_col20, #T_7d730_row1_col18, #T_7d730_row2_col21 {\n",
       "  background-color: lightgreen;\n",
       "}\n",
       "</style>\n",
       "<table id=\"T_7d730\">\n",
       "  <thead>\n",
       "    <tr>\n",
       "      <th class=\"blank level0\" >&nbsp;</th>\n",
       "      <th id=\"T_7d730_level0_col0\" class=\"col_heading level0 col0\" >2</th>\n",
       "      <th id=\"T_7d730_level0_col1\" class=\"col_heading level0 col1\" >3</th>\n",
       "      <th id=\"T_7d730_level0_col2\" class=\"col_heading level0 col2\" >4</th>\n",
       "      <th id=\"T_7d730_level0_col3\" class=\"col_heading level0 col3\" >5</th>\n",
       "      <th id=\"T_7d730_level0_col4\" class=\"col_heading level0 col4\" >6</th>\n",
       "      <th id=\"T_7d730_level0_col5\" class=\"col_heading level0 col5\" >7</th>\n",
       "      <th id=\"T_7d730_level0_col6\" class=\"col_heading level0 col6\" >8</th>\n",
       "      <th id=\"T_7d730_level0_col7\" class=\"col_heading level0 col7\" >9</th>\n",
       "      <th id=\"T_7d730_level0_col8\" class=\"col_heading level0 col8\" >10</th>\n",
       "      <th id=\"T_7d730_level0_col9\" class=\"col_heading level0 col9\" >11</th>\n",
       "      <th id=\"T_7d730_level0_col10\" class=\"col_heading level0 col10\" >12</th>\n",
       "      <th id=\"T_7d730_level0_col11\" class=\"col_heading level0 col11\" >13</th>\n",
       "      <th id=\"T_7d730_level0_col12\" class=\"col_heading level0 col12\" >14</th>\n",
       "      <th id=\"T_7d730_level0_col13\" class=\"col_heading level0 col13\" >15</th>\n",
       "      <th id=\"T_7d730_level0_col14\" class=\"col_heading level0 col14\" >16</th>\n",
       "      <th id=\"T_7d730_level0_col15\" class=\"col_heading level0 col15\" >17</th>\n",
       "      <th id=\"T_7d730_level0_col16\" class=\"col_heading level0 col16\" >18</th>\n",
       "      <th id=\"T_7d730_level0_col17\" class=\"col_heading level0 col17\" >19</th>\n",
       "      <th id=\"T_7d730_level0_col18\" class=\"col_heading level0 col18\" >20</th>\n",
       "      <th id=\"T_7d730_level0_col19\" class=\"col_heading level0 col19\" >21</th>\n",
       "      <th id=\"T_7d730_level0_col20\" class=\"col_heading level0 col20\" >22</th>\n",
       "      <th id=\"T_7d730_level0_col21\" class=\"col_heading level0 col21\" >23</th>\n",
       "      <th id=\"T_7d730_level0_col22\" class=\"col_heading level0 col22\" >24</th>\n",
       "    </tr>\n",
       "  </thead>\n",
       "  <tbody>\n",
       "    <tr>\n",
       "      <th id=\"T_7d730_level0_row0\" class=\"row_heading level0 row0\" >KMeans</th>\n",
       "      <td id=\"T_7d730_row0_col0\" class=\"data row0 col0\" >0.375064</td>\n",
       "      <td id=\"T_7d730_row0_col1\" class=\"data row0 col1\" >0.459828</td>\n",
       "      <td id=\"T_7d730_row0_col2\" class=\"data row0 col2\" >0.417125</td>\n",
       "      <td id=\"T_7d730_row0_col3\" class=\"data row0 col3\" >0.405384</td>\n",
       "      <td id=\"T_7d730_row0_col4\" class=\"data row0 col4\" >0.421320</td>\n",
       "      <td id=\"T_7d730_row0_col5\" class=\"data row0 col5\" >0.437411</td>\n",
       "      <td id=\"T_7d730_row0_col6\" class=\"data row0 col6\" >0.466073</td>\n",
       "      <td id=\"T_7d730_row0_col7\" class=\"data row0 col7\" >0.476590</td>\n",
       "      <td id=\"T_7d730_row0_col8\" class=\"data row0 col8\" >0.476929</td>\n",
       "      <td id=\"T_7d730_row0_col9\" class=\"data row0 col9\" >0.493601</td>\n",
       "      <td id=\"T_7d730_row0_col10\" class=\"data row0 col10\" >0.501936</td>\n",
       "      <td id=\"T_7d730_row0_col11\" class=\"data row0 col11\" >0.520705</td>\n",
       "      <td id=\"T_7d730_row0_col12\" class=\"data row0 col12\" >0.518617</td>\n",
       "      <td id=\"T_7d730_row0_col13\" class=\"data row0 col13\" >0.521533</td>\n",
       "      <td id=\"T_7d730_row0_col14\" class=\"data row0 col14\" >0.527394</td>\n",
       "      <td id=\"T_7d730_row0_col15\" class=\"data row0 col15\" >0.543247</td>\n",
       "      <td id=\"T_7d730_row0_col16\" class=\"data row0 col16\" >0.550138</td>\n",
       "      <td id=\"T_7d730_row0_col17\" class=\"data row0 col17\" >0.549690</td>\n",
       "      <td id=\"T_7d730_row0_col18\" class=\"data row0 col18\" >0.560873</td>\n",
       "      <td id=\"T_7d730_row0_col19\" class=\"data row0 col19\" >0.528183</td>\n",
       "      <td id=\"T_7d730_row0_col20\" class=\"data row0 col20\" >0.561946</td>\n",
       "      <td id=\"T_7d730_row0_col21\" class=\"data row0 col21\" >0.525205</td>\n",
       "      <td id=\"T_7d730_row0_col22\" class=\"data row0 col22\" >0.543327</td>\n",
       "    </tr>\n",
       "    <tr>\n",
       "      <th id=\"T_7d730_level0_row1\" class=\"row_heading level0 row1\" >GMM</th>\n",
       "      <td id=\"T_7d730_row1_col0\" class=\"data row1 col0\" >0.348512</td>\n",
       "      <td id=\"T_7d730_row1_col1\" class=\"data row1 col1\" >0.459666</td>\n",
       "      <td id=\"T_7d730_row1_col2\" class=\"data row1 col2\" >0.409733</td>\n",
       "      <td id=\"T_7d730_row1_col3\" class=\"data row1 col3\" >0.296037</td>\n",
       "      <td id=\"T_7d730_row1_col4\" class=\"data row1 col4\" >0.308874</td>\n",
       "      <td id=\"T_7d730_row1_col5\" class=\"data row1 col5\" >0.326781</td>\n",
       "      <td id=\"T_7d730_row1_col6\" class=\"data row1 col6\" >0.331399</td>\n",
       "      <td id=\"T_7d730_row1_col7\" class=\"data row1 col7\" >0.415307</td>\n",
       "      <td id=\"T_7d730_row1_col8\" class=\"data row1 col8\" >0.420584</td>\n",
       "      <td id=\"T_7d730_row1_col9\" class=\"data row1 col9\" >0.389501</td>\n",
       "      <td id=\"T_7d730_row1_col10\" class=\"data row1 col10\" >0.433149</td>\n",
       "      <td id=\"T_7d730_row1_col11\" class=\"data row1 col11\" >0.445091</td>\n",
       "      <td id=\"T_7d730_row1_col12\" class=\"data row1 col12\" >0.410158</td>\n",
       "      <td id=\"T_7d730_row1_col13\" class=\"data row1 col13\" >0.361527</td>\n",
       "      <td id=\"T_7d730_row1_col14\" class=\"data row1 col14\" >0.337510</td>\n",
       "      <td id=\"T_7d730_row1_col15\" class=\"data row1 col15\" >0.478285</td>\n",
       "      <td id=\"T_7d730_row1_col16\" class=\"data row1 col16\" >0.468709</td>\n",
       "      <td id=\"T_7d730_row1_col17\" class=\"data row1 col17\" >0.486364</td>\n",
       "      <td id=\"T_7d730_row1_col18\" class=\"data row1 col18\" >0.517848</td>\n",
       "      <td id=\"T_7d730_row1_col19\" class=\"data row1 col19\" >0.402916</td>\n",
       "      <td id=\"T_7d730_row1_col20\" class=\"data row1 col20\" >0.469536</td>\n",
       "      <td id=\"T_7d730_row1_col21\" class=\"data row1 col21\" >0.413302</td>\n",
       "      <td id=\"T_7d730_row1_col22\" class=\"data row1 col22\" >0.440417</td>\n",
       "    </tr>\n",
       "    <tr>\n",
       "      <th id=\"T_7d730_level0_row2\" class=\"row_heading level0 row2\" >HC</th>\n",
       "      <td id=\"T_7d730_row2_col0\" class=\"data row2 col0\" >0.334681</td>\n",
       "      <td id=\"T_7d730_row2_col1\" class=\"data row2 col1\" >0.420597</td>\n",
       "      <td id=\"T_7d730_row2_col2\" class=\"data row2 col2\" >0.393372</td>\n",
       "      <td id=\"T_7d730_row2_col3\" class=\"data row2 col3\" >0.397611</td>\n",
       "      <td id=\"T_7d730_row2_col4\" class=\"data row2 col4\" >0.406646</td>\n",
       "      <td id=\"T_7d730_row2_col5\" class=\"data row2 col5\" >0.416557</td>\n",
       "      <td id=\"T_7d730_row2_col6\" class=\"data row2 col6\" >0.430600</td>\n",
       "      <td id=\"T_7d730_row2_col7\" class=\"data row2 col7\" >0.447379</td>\n",
       "      <td id=\"T_7d730_row2_col8\" class=\"data row2 col8\" >0.451166</td>\n",
       "      <td id=\"T_7d730_row2_col9\" class=\"data row2 col9\" >0.468663</td>\n",
       "      <td id=\"T_7d730_row2_col10\" class=\"data row2 col10\" >0.481682</td>\n",
       "      <td id=\"T_7d730_row2_col11\" class=\"data row2 col11\" >0.495103</td>\n",
       "      <td id=\"T_7d730_row2_col12\" class=\"data row2 col12\" >0.500017</td>\n",
       "      <td id=\"T_7d730_row2_col13\" class=\"data row2 col13\" >0.501909</td>\n",
       "      <td id=\"T_7d730_row2_col14\" class=\"data row2 col14\" >0.506945</td>\n",
       "      <td id=\"T_7d730_row2_col15\" class=\"data row2 col15\" >0.519536</td>\n",
       "      <td id=\"T_7d730_row2_col16\" class=\"data row2 col16\" >0.527049</td>\n",
       "      <td id=\"T_7d730_row2_col17\" class=\"data row2 col17\" >0.529841</td>\n",
       "      <td id=\"T_7d730_row2_col18\" class=\"data row2 col18\" >0.538622</td>\n",
       "      <td id=\"T_7d730_row2_col19\" class=\"data row2 col19\" >0.541665</td>\n",
       "      <td id=\"T_7d730_row2_col20\" class=\"data row2 col20\" >0.549744</td>\n",
       "      <td id=\"T_7d730_row2_col21\" class=\"data row2 col21\" >0.556756</td>\n",
       "      <td id=\"T_7d730_row2_col22\" class=\"data row2 col22\" >0.554636</td>\n",
       "    </tr>\n",
       "  </tbody>\n",
       "</table>\n"
      ],
      "text/plain": [
       "<pandas.io.formats.style.Styler at 0x29fdce640>"
      ]
     },
     "execution_count": 91,
     "metadata": {},
     "output_type": "execute_result"
    }
   ],
   "source": [
    "# Tree Based Embedding\n",
    "df_results = pd.DataFrame( \n",
    "    {'KMeans': kmeans_list, \n",
    "     'GMM': gmm_list, \n",
    "     'HC': hc_list}\n",
    ").T\n",
    "\n",
    "df_results.columns = clusters\n",
    "df_results.style.highlight_max( color='lightgreen', axis=1 )"
   ]
  },
  {
   "cell_type": "code",
   "execution_count": 92,
   "id": "8da2cd34",
   "metadata": {
    "ExecuteTime": {
     "end_time": "2023-09-12T13:46:28.855267Z",
     "start_time": "2023-09-12T13:46:28.834096Z"
    }
   },
   "outputs": [
    {
     "data": {
      "text/html": [
       "<style type=\"text/css\">\n",
       "#T_1d472_row0_col20, #T_1d472_row1_col18, #T_1d472_row2_col21 {\n",
       "  background-color: lightgreen;\n",
       "}\n",
       "</style>\n",
       "<table id=\"T_1d472\">\n",
       "  <thead>\n",
       "    <tr>\n",
       "      <th class=\"blank level0\" >&nbsp;</th>\n",
       "      <th id=\"T_1d472_level0_col0\" class=\"col_heading level0 col0\" >2</th>\n",
       "      <th id=\"T_1d472_level0_col1\" class=\"col_heading level0 col1\" >3</th>\n",
       "      <th id=\"T_1d472_level0_col2\" class=\"col_heading level0 col2\" >4</th>\n",
       "      <th id=\"T_1d472_level0_col3\" class=\"col_heading level0 col3\" >5</th>\n",
       "      <th id=\"T_1d472_level0_col4\" class=\"col_heading level0 col4\" >6</th>\n",
       "      <th id=\"T_1d472_level0_col5\" class=\"col_heading level0 col5\" >7</th>\n",
       "      <th id=\"T_1d472_level0_col6\" class=\"col_heading level0 col6\" >8</th>\n",
       "      <th id=\"T_1d472_level0_col7\" class=\"col_heading level0 col7\" >9</th>\n",
       "      <th id=\"T_1d472_level0_col8\" class=\"col_heading level0 col8\" >10</th>\n",
       "      <th id=\"T_1d472_level0_col9\" class=\"col_heading level0 col9\" >11</th>\n",
       "      <th id=\"T_1d472_level0_col10\" class=\"col_heading level0 col10\" >12</th>\n",
       "      <th id=\"T_1d472_level0_col11\" class=\"col_heading level0 col11\" >13</th>\n",
       "      <th id=\"T_1d472_level0_col12\" class=\"col_heading level0 col12\" >14</th>\n",
       "      <th id=\"T_1d472_level0_col13\" class=\"col_heading level0 col13\" >15</th>\n",
       "      <th id=\"T_1d472_level0_col14\" class=\"col_heading level0 col14\" >16</th>\n",
       "      <th id=\"T_1d472_level0_col15\" class=\"col_heading level0 col15\" >17</th>\n",
       "      <th id=\"T_1d472_level0_col16\" class=\"col_heading level0 col16\" >18</th>\n",
       "      <th id=\"T_1d472_level0_col17\" class=\"col_heading level0 col17\" >19</th>\n",
       "      <th id=\"T_1d472_level0_col18\" class=\"col_heading level0 col18\" >20</th>\n",
       "      <th id=\"T_1d472_level0_col19\" class=\"col_heading level0 col19\" >21</th>\n",
       "      <th id=\"T_1d472_level0_col20\" class=\"col_heading level0 col20\" >22</th>\n",
       "      <th id=\"T_1d472_level0_col21\" class=\"col_heading level0 col21\" >23</th>\n",
       "      <th id=\"T_1d472_level0_col22\" class=\"col_heading level0 col22\" >24</th>\n",
       "    </tr>\n",
       "  </thead>\n",
       "  <tbody>\n",
       "    <tr>\n",
       "      <th id=\"T_1d472_level0_row0\" class=\"row_heading level0 row0\" >KMeans</th>\n",
       "      <td id=\"T_1d472_row0_col0\" class=\"data row0 col0\" >0.375064</td>\n",
       "      <td id=\"T_1d472_row0_col1\" class=\"data row0 col1\" >0.459828</td>\n",
       "      <td id=\"T_1d472_row0_col2\" class=\"data row0 col2\" >0.417125</td>\n",
       "      <td id=\"T_1d472_row0_col3\" class=\"data row0 col3\" >0.405384</td>\n",
       "      <td id=\"T_1d472_row0_col4\" class=\"data row0 col4\" >0.421320</td>\n",
       "      <td id=\"T_1d472_row0_col5\" class=\"data row0 col5\" >0.437411</td>\n",
       "      <td id=\"T_1d472_row0_col6\" class=\"data row0 col6\" >0.466073</td>\n",
       "      <td id=\"T_1d472_row0_col7\" class=\"data row0 col7\" >0.476590</td>\n",
       "      <td id=\"T_1d472_row0_col8\" class=\"data row0 col8\" >0.476929</td>\n",
       "      <td id=\"T_1d472_row0_col9\" class=\"data row0 col9\" >0.493601</td>\n",
       "      <td id=\"T_1d472_row0_col10\" class=\"data row0 col10\" >0.501936</td>\n",
       "      <td id=\"T_1d472_row0_col11\" class=\"data row0 col11\" >0.520705</td>\n",
       "      <td id=\"T_1d472_row0_col12\" class=\"data row0 col12\" >0.518617</td>\n",
       "      <td id=\"T_1d472_row0_col13\" class=\"data row0 col13\" >0.521533</td>\n",
       "      <td id=\"T_1d472_row0_col14\" class=\"data row0 col14\" >0.527394</td>\n",
       "      <td id=\"T_1d472_row0_col15\" class=\"data row0 col15\" >0.543247</td>\n",
       "      <td id=\"T_1d472_row0_col16\" class=\"data row0 col16\" >0.550138</td>\n",
       "      <td id=\"T_1d472_row0_col17\" class=\"data row0 col17\" >0.549690</td>\n",
       "      <td id=\"T_1d472_row0_col18\" class=\"data row0 col18\" >0.560873</td>\n",
       "      <td id=\"T_1d472_row0_col19\" class=\"data row0 col19\" >0.528183</td>\n",
       "      <td id=\"T_1d472_row0_col20\" class=\"data row0 col20\" >0.561946</td>\n",
       "      <td id=\"T_1d472_row0_col21\" class=\"data row0 col21\" >0.525205</td>\n",
       "      <td id=\"T_1d472_row0_col22\" class=\"data row0 col22\" >0.543327</td>\n",
       "    </tr>\n",
       "    <tr>\n",
       "      <th id=\"T_1d472_level0_row1\" class=\"row_heading level0 row1\" >GMM</th>\n",
       "      <td id=\"T_1d472_row1_col0\" class=\"data row1 col0\" >0.348512</td>\n",
       "      <td id=\"T_1d472_row1_col1\" class=\"data row1 col1\" >0.459666</td>\n",
       "      <td id=\"T_1d472_row1_col2\" class=\"data row1 col2\" >0.409733</td>\n",
       "      <td id=\"T_1d472_row1_col3\" class=\"data row1 col3\" >0.296037</td>\n",
       "      <td id=\"T_1d472_row1_col4\" class=\"data row1 col4\" >0.308874</td>\n",
       "      <td id=\"T_1d472_row1_col5\" class=\"data row1 col5\" >0.326781</td>\n",
       "      <td id=\"T_1d472_row1_col6\" class=\"data row1 col6\" >0.331399</td>\n",
       "      <td id=\"T_1d472_row1_col7\" class=\"data row1 col7\" >0.415307</td>\n",
       "      <td id=\"T_1d472_row1_col8\" class=\"data row1 col8\" >0.420584</td>\n",
       "      <td id=\"T_1d472_row1_col9\" class=\"data row1 col9\" >0.389501</td>\n",
       "      <td id=\"T_1d472_row1_col10\" class=\"data row1 col10\" >0.433149</td>\n",
       "      <td id=\"T_1d472_row1_col11\" class=\"data row1 col11\" >0.445091</td>\n",
       "      <td id=\"T_1d472_row1_col12\" class=\"data row1 col12\" >0.410158</td>\n",
       "      <td id=\"T_1d472_row1_col13\" class=\"data row1 col13\" >0.361527</td>\n",
       "      <td id=\"T_1d472_row1_col14\" class=\"data row1 col14\" >0.337510</td>\n",
       "      <td id=\"T_1d472_row1_col15\" class=\"data row1 col15\" >0.478285</td>\n",
       "      <td id=\"T_1d472_row1_col16\" class=\"data row1 col16\" >0.468709</td>\n",
       "      <td id=\"T_1d472_row1_col17\" class=\"data row1 col17\" >0.486364</td>\n",
       "      <td id=\"T_1d472_row1_col18\" class=\"data row1 col18\" >0.517848</td>\n",
       "      <td id=\"T_1d472_row1_col19\" class=\"data row1 col19\" >0.402916</td>\n",
       "      <td id=\"T_1d472_row1_col20\" class=\"data row1 col20\" >0.469536</td>\n",
       "      <td id=\"T_1d472_row1_col21\" class=\"data row1 col21\" >0.413302</td>\n",
       "      <td id=\"T_1d472_row1_col22\" class=\"data row1 col22\" >0.440417</td>\n",
       "    </tr>\n",
       "    <tr>\n",
       "      <th id=\"T_1d472_level0_row2\" class=\"row_heading level0 row2\" >HC</th>\n",
       "      <td id=\"T_1d472_row2_col0\" class=\"data row2 col0\" >0.334681</td>\n",
       "      <td id=\"T_1d472_row2_col1\" class=\"data row2 col1\" >0.420597</td>\n",
       "      <td id=\"T_1d472_row2_col2\" class=\"data row2 col2\" >0.393372</td>\n",
       "      <td id=\"T_1d472_row2_col3\" class=\"data row2 col3\" >0.397611</td>\n",
       "      <td id=\"T_1d472_row2_col4\" class=\"data row2 col4\" >0.406646</td>\n",
       "      <td id=\"T_1d472_row2_col5\" class=\"data row2 col5\" >0.416557</td>\n",
       "      <td id=\"T_1d472_row2_col6\" class=\"data row2 col6\" >0.430600</td>\n",
       "      <td id=\"T_1d472_row2_col7\" class=\"data row2 col7\" >0.447379</td>\n",
       "      <td id=\"T_1d472_row2_col8\" class=\"data row2 col8\" >0.451166</td>\n",
       "      <td id=\"T_1d472_row2_col9\" class=\"data row2 col9\" >0.468663</td>\n",
       "      <td id=\"T_1d472_row2_col10\" class=\"data row2 col10\" >0.481682</td>\n",
       "      <td id=\"T_1d472_row2_col11\" class=\"data row2 col11\" >0.495103</td>\n",
       "      <td id=\"T_1d472_row2_col12\" class=\"data row2 col12\" >0.500017</td>\n",
       "      <td id=\"T_1d472_row2_col13\" class=\"data row2 col13\" >0.501909</td>\n",
       "      <td id=\"T_1d472_row2_col14\" class=\"data row2 col14\" >0.506945</td>\n",
       "      <td id=\"T_1d472_row2_col15\" class=\"data row2 col15\" >0.519536</td>\n",
       "      <td id=\"T_1d472_row2_col16\" class=\"data row2 col16\" >0.527049</td>\n",
       "      <td id=\"T_1d472_row2_col17\" class=\"data row2 col17\" >0.529841</td>\n",
       "      <td id=\"T_1d472_row2_col18\" class=\"data row2 col18\" >0.538622</td>\n",
       "      <td id=\"T_1d472_row2_col19\" class=\"data row2 col19\" >0.541665</td>\n",
       "      <td id=\"T_1d472_row2_col20\" class=\"data row2 col20\" >0.549744</td>\n",
       "      <td id=\"T_1d472_row2_col21\" class=\"data row2 col21\" >0.556756</td>\n",
       "      <td id=\"T_1d472_row2_col22\" class=\"data row2 col22\" >0.554636</td>\n",
       "    </tr>\n",
       "  </tbody>\n",
       "</table>\n"
      ],
      "text/plain": [
       "<pandas.io.formats.style.Styler at 0x29fe58cd0>"
      ]
     },
     "execution_count": 92,
     "metadata": {},
     "output_type": "execute_result"
    }
   ],
   "source": [
    "# UMAP Embedding\n",
    "df_results = pd.DataFrame( \n",
    "    {'KMeans': kmeans_list, \n",
    "     'GMM': gmm_list, \n",
    "     'HC': hc_list}\n",
    ").T\n",
    "\n",
    "df_results.columns = clusters\n",
    "df_results.style.highlight_max( color='lightgreen', axis=1 )"
   ]
  },
  {
   "cell_type": "code",
   "execution_count": 93,
   "id": "ddaccdef",
   "metadata": {
    "ExecuteTime": {
     "end_time": "2023-09-12T13:46:29.752573Z",
     "start_time": "2023-09-12T13:46:29.729509Z"
    }
   },
   "outputs": [
    {
     "data": {
      "text/html": [
       "<style type=\"text/css\">\n",
       "#T_3e4a2_row0_col20, #T_3e4a2_row1_col18, #T_3e4a2_row2_col21 {\n",
       "  background-color: lightgreen;\n",
       "}\n",
       "</style>\n",
       "<table id=\"T_3e4a2\">\n",
       "  <thead>\n",
       "    <tr>\n",
       "      <th class=\"blank level0\" >&nbsp;</th>\n",
       "      <th id=\"T_3e4a2_level0_col0\" class=\"col_heading level0 col0\" >2</th>\n",
       "      <th id=\"T_3e4a2_level0_col1\" class=\"col_heading level0 col1\" >3</th>\n",
       "      <th id=\"T_3e4a2_level0_col2\" class=\"col_heading level0 col2\" >4</th>\n",
       "      <th id=\"T_3e4a2_level0_col3\" class=\"col_heading level0 col3\" >5</th>\n",
       "      <th id=\"T_3e4a2_level0_col4\" class=\"col_heading level0 col4\" >6</th>\n",
       "      <th id=\"T_3e4a2_level0_col5\" class=\"col_heading level0 col5\" >7</th>\n",
       "      <th id=\"T_3e4a2_level0_col6\" class=\"col_heading level0 col6\" >8</th>\n",
       "      <th id=\"T_3e4a2_level0_col7\" class=\"col_heading level0 col7\" >9</th>\n",
       "      <th id=\"T_3e4a2_level0_col8\" class=\"col_heading level0 col8\" >10</th>\n",
       "      <th id=\"T_3e4a2_level0_col9\" class=\"col_heading level0 col9\" >11</th>\n",
       "      <th id=\"T_3e4a2_level0_col10\" class=\"col_heading level0 col10\" >12</th>\n",
       "      <th id=\"T_3e4a2_level0_col11\" class=\"col_heading level0 col11\" >13</th>\n",
       "      <th id=\"T_3e4a2_level0_col12\" class=\"col_heading level0 col12\" >14</th>\n",
       "      <th id=\"T_3e4a2_level0_col13\" class=\"col_heading level0 col13\" >15</th>\n",
       "      <th id=\"T_3e4a2_level0_col14\" class=\"col_heading level0 col14\" >16</th>\n",
       "      <th id=\"T_3e4a2_level0_col15\" class=\"col_heading level0 col15\" >17</th>\n",
       "      <th id=\"T_3e4a2_level0_col16\" class=\"col_heading level0 col16\" >18</th>\n",
       "      <th id=\"T_3e4a2_level0_col17\" class=\"col_heading level0 col17\" >19</th>\n",
       "      <th id=\"T_3e4a2_level0_col18\" class=\"col_heading level0 col18\" >20</th>\n",
       "      <th id=\"T_3e4a2_level0_col19\" class=\"col_heading level0 col19\" >21</th>\n",
       "      <th id=\"T_3e4a2_level0_col20\" class=\"col_heading level0 col20\" >22</th>\n",
       "      <th id=\"T_3e4a2_level0_col21\" class=\"col_heading level0 col21\" >23</th>\n",
       "      <th id=\"T_3e4a2_level0_col22\" class=\"col_heading level0 col22\" >24</th>\n",
       "    </tr>\n",
       "  </thead>\n",
       "  <tbody>\n",
       "    <tr>\n",
       "      <th id=\"T_3e4a2_level0_row0\" class=\"row_heading level0 row0\" >KMeans</th>\n",
       "      <td id=\"T_3e4a2_row0_col0\" class=\"data row0 col0\" >0.375064</td>\n",
       "      <td id=\"T_3e4a2_row0_col1\" class=\"data row0 col1\" >0.459828</td>\n",
       "      <td id=\"T_3e4a2_row0_col2\" class=\"data row0 col2\" >0.417125</td>\n",
       "      <td id=\"T_3e4a2_row0_col3\" class=\"data row0 col3\" >0.405384</td>\n",
       "      <td id=\"T_3e4a2_row0_col4\" class=\"data row0 col4\" >0.421320</td>\n",
       "      <td id=\"T_3e4a2_row0_col5\" class=\"data row0 col5\" >0.437411</td>\n",
       "      <td id=\"T_3e4a2_row0_col6\" class=\"data row0 col6\" >0.466073</td>\n",
       "      <td id=\"T_3e4a2_row0_col7\" class=\"data row0 col7\" >0.476590</td>\n",
       "      <td id=\"T_3e4a2_row0_col8\" class=\"data row0 col8\" >0.476929</td>\n",
       "      <td id=\"T_3e4a2_row0_col9\" class=\"data row0 col9\" >0.493601</td>\n",
       "      <td id=\"T_3e4a2_row0_col10\" class=\"data row0 col10\" >0.501936</td>\n",
       "      <td id=\"T_3e4a2_row0_col11\" class=\"data row0 col11\" >0.520705</td>\n",
       "      <td id=\"T_3e4a2_row0_col12\" class=\"data row0 col12\" >0.518617</td>\n",
       "      <td id=\"T_3e4a2_row0_col13\" class=\"data row0 col13\" >0.521533</td>\n",
       "      <td id=\"T_3e4a2_row0_col14\" class=\"data row0 col14\" >0.527394</td>\n",
       "      <td id=\"T_3e4a2_row0_col15\" class=\"data row0 col15\" >0.543247</td>\n",
       "      <td id=\"T_3e4a2_row0_col16\" class=\"data row0 col16\" >0.550138</td>\n",
       "      <td id=\"T_3e4a2_row0_col17\" class=\"data row0 col17\" >0.549690</td>\n",
       "      <td id=\"T_3e4a2_row0_col18\" class=\"data row0 col18\" >0.560873</td>\n",
       "      <td id=\"T_3e4a2_row0_col19\" class=\"data row0 col19\" >0.528183</td>\n",
       "      <td id=\"T_3e4a2_row0_col20\" class=\"data row0 col20\" >0.561946</td>\n",
       "      <td id=\"T_3e4a2_row0_col21\" class=\"data row0 col21\" >0.525205</td>\n",
       "      <td id=\"T_3e4a2_row0_col22\" class=\"data row0 col22\" >0.543327</td>\n",
       "    </tr>\n",
       "    <tr>\n",
       "      <th id=\"T_3e4a2_level0_row1\" class=\"row_heading level0 row1\" >GMM</th>\n",
       "      <td id=\"T_3e4a2_row1_col0\" class=\"data row1 col0\" >0.348512</td>\n",
       "      <td id=\"T_3e4a2_row1_col1\" class=\"data row1 col1\" >0.459666</td>\n",
       "      <td id=\"T_3e4a2_row1_col2\" class=\"data row1 col2\" >0.409733</td>\n",
       "      <td id=\"T_3e4a2_row1_col3\" class=\"data row1 col3\" >0.296037</td>\n",
       "      <td id=\"T_3e4a2_row1_col4\" class=\"data row1 col4\" >0.308874</td>\n",
       "      <td id=\"T_3e4a2_row1_col5\" class=\"data row1 col5\" >0.326781</td>\n",
       "      <td id=\"T_3e4a2_row1_col6\" class=\"data row1 col6\" >0.331399</td>\n",
       "      <td id=\"T_3e4a2_row1_col7\" class=\"data row1 col7\" >0.415307</td>\n",
       "      <td id=\"T_3e4a2_row1_col8\" class=\"data row1 col8\" >0.420584</td>\n",
       "      <td id=\"T_3e4a2_row1_col9\" class=\"data row1 col9\" >0.389501</td>\n",
       "      <td id=\"T_3e4a2_row1_col10\" class=\"data row1 col10\" >0.433149</td>\n",
       "      <td id=\"T_3e4a2_row1_col11\" class=\"data row1 col11\" >0.445091</td>\n",
       "      <td id=\"T_3e4a2_row1_col12\" class=\"data row1 col12\" >0.410158</td>\n",
       "      <td id=\"T_3e4a2_row1_col13\" class=\"data row1 col13\" >0.361527</td>\n",
       "      <td id=\"T_3e4a2_row1_col14\" class=\"data row1 col14\" >0.337510</td>\n",
       "      <td id=\"T_3e4a2_row1_col15\" class=\"data row1 col15\" >0.478285</td>\n",
       "      <td id=\"T_3e4a2_row1_col16\" class=\"data row1 col16\" >0.468709</td>\n",
       "      <td id=\"T_3e4a2_row1_col17\" class=\"data row1 col17\" >0.486364</td>\n",
       "      <td id=\"T_3e4a2_row1_col18\" class=\"data row1 col18\" >0.517848</td>\n",
       "      <td id=\"T_3e4a2_row1_col19\" class=\"data row1 col19\" >0.402916</td>\n",
       "      <td id=\"T_3e4a2_row1_col20\" class=\"data row1 col20\" >0.469536</td>\n",
       "      <td id=\"T_3e4a2_row1_col21\" class=\"data row1 col21\" >0.413302</td>\n",
       "      <td id=\"T_3e4a2_row1_col22\" class=\"data row1 col22\" >0.440417</td>\n",
       "    </tr>\n",
       "    <tr>\n",
       "      <th id=\"T_3e4a2_level0_row2\" class=\"row_heading level0 row2\" >HC</th>\n",
       "      <td id=\"T_3e4a2_row2_col0\" class=\"data row2 col0\" >0.334681</td>\n",
       "      <td id=\"T_3e4a2_row2_col1\" class=\"data row2 col1\" >0.420597</td>\n",
       "      <td id=\"T_3e4a2_row2_col2\" class=\"data row2 col2\" >0.393372</td>\n",
       "      <td id=\"T_3e4a2_row2_col3\" class=\"data row2 col3\" >0.397611</td>\n",
       "      <td id=\"T_3e4a2_row2_col4\" class=\"data row2 col4\" >0.406646</td>\n",
       "      <td id=\"T_3e4a2_row2_col5\" class=\"data row2 col5\" >0.416557</td>\n",
       "      <td id=\"T_3e4a2_row2_col6\" class=\"data row2 col6\" >0.430600</td>\n",
       "      <td id=\"T_3e4a2_row2_col7\" class=\"data row2 col7\" >0.447379</td>\n",
       "      <td id=\"T_3e4a2_row2_col8\" class=\"data row2 col8\" >0.451166</td>\n",
       "      <td id=\"T_3e4a2_row2_col9\" class=\"data row2 col9\" >0.468663</td>\n",
       "      <td id=\"T_3e4a2_row2_col10\" class=\"data row2 col10\" >0.481682</td>\n",
       "      <td id=\"T_3e4a2_row2_col11\" class=\"data row2 col11\" >0.495103</td>\n",
       "      <td id=\"T_3e4a2_row2_col12\" class=\"data row2 col12\" >0.500017</td>\n",
       "      <td id=\"T_3e4a2_row2_col13\" class=\"data row2 col13\" >0.501909</td>\n",
       "      <td id=\"T_3e4a2_row2_col14\" class=\"data row2 col14\" >0.506945</td>\n",
       "      <td id=\"T_3e4a2_row2_col15\" class=\"data row2 col15\" >0.519536</td>\n",
       "      <td id=\"T_3e4a2_row2_col16\" class=\"data row2 col16\" >0.527049</td>\n",
       "      <td id=\"T_3e4a2_row2_col17\" class=\"data row2 col17\" >0.529841</td>\n",
       "      <td id=\"T_3e4a2_row2_col18\" class=\"data row2 col18\" >0.538622</td>\n",
       "      <td id=\"T_3e4a2_row2_col19\" class=\"data row2 col19\" >0.541665</td>\n",
       "      <td id=\"T_3e4a2_row2_col20\" class=\"data row2 col20\" >0.549744</td>\n",
       "      <td id=\"T_3e4a2_row2_col21\" class=\"data row2 col21\" >0.556756</td>\n",
       "      <td id=\"T_3e4a2_row2_col22\" class=\"data row2 col22\" >0.554636</td>\n",
       "    </tr>\n",
       "  </tbody>\n",
       "</table>\n"
      ],
      "text/plain": [
       "<pandas.io.formats.style.Styler at 0x29fe9a0d0>"
      ]
     },
     "execution_count": 93,
     "metadata": {},
     "output_type": "execute_result"
    }
   ],
   "source": [
    "# TSNE Embedding\n",
    "df_results = pd.DataFrame( \n",
    "    {'KMeans': kmeans_list, \n",
    "     'GMM': gmm_list, \n",
    "     'HC': hc_list}\n",
    ").T\n",
    "\n",
    "df_results.columns = clusters\n",
    "df_results.style.highlight_max( color='lightgreen', axis=1 )"
   ]
  },
  {
   "cell_type": "markdown",
   "id": "b3cc1232",
   "metadata": {},
   "source": [
    "# 8.0 Model Training "
   ]
  },
  {
   "cell_type": "markdown",
   "id": "2536e733",
   "metadata": {},
   "source": [
    "## 8.1 Final model"
   ]
  },
  {
   "cell_type": "code",
   "execution_count": 94,
   "id": "4a1b9a26",
   "metadata": {
    "ExecuteTime": {
     "end_time": "2023-09-12T13:46:32.550860Z",
     "start_time": "2023-09-12T13:46:32.545306Z"
    }
   },
   "outputs": [],
   "source": [
    "# model definition\n",
    "k = 8"
   ]
  },
  {
   "cell_type": "code",
   "execution_count": 95,
   "id": "afac76fb",
   "metadata": {
    "ExecuteTime": {
     "end_time": "2023-09-12T13:46:45.606824Z",
     "start_time": "2023-09-12T13:46:33.128611Z"
    }
   },
   "outputs": [],
   "source": [
    "## model definition\n",
    "gmm_model = mx.GaussianMixture( n_components=k, n_init=300, random_state=32 )\n",
    "\n",
    "# model training\n",
    "gmm_model.fit( X )\n",
    "\n",
    "# model predict\n",
    "labels = gmm_model.predict( X )"
   ]
  },
  {
   "cell_type": "markdown",
   "id": "f962e590",
   "metadata": {},
   "source": [
    "## 8.2 Cluster Validation"
   ]
  },
  {
   "cell_type": "code",
   "execution_count": 96,
   "id": "2f1ed966",
   "metadata": {
    "ExecuteTime": {
     "end_time": "2023-09-12T13:46:53.440833Z",
     "start_time": "2023-09-12T13:46:53.067029Z"
    }
   },
   "outputs": [
    {
     "name": "stdout",
     "output_type": "stream",
     "text": [
      "SS value: 0.2996191680431366\n"
     ]
    }
   ],
   "source": [
    "print( 'SS value: {}'.format( me.silhouette_score( X, labels, metric='euclidean' ) ) ) "
   ]
  },
  {
   "cell_type": "markdown",
   "id": "bfcfd2e9",
   "metadata": {},
   "source": [
    "# 9.0 Cluster Analysis "
   ]
  },
  {
   "cell_type": "code",
   "execution_count": 97,
   "id": "6948022b",
   "metadata": {
    "ExecuteTime": {
     "end_time": "2023-09-12T13:46:54.737423Z",
     "start_time": "2023-09-12T13:46:54.731603Z"
    }
   },
   "outputs": [],
   "source": [
    "df9 = X.copy()\n",
    "df9['cluster'] = labels"
   ]
  },
  {
   "cell_type": "markdown",
   "id": "88e5923a",
   "metadata": {},
   "source": [
    "## 9.1 Visualization Inspection"
   ]
  },
  {
   "cell_type": "code",
   "execution_count": 98,
   "id": "a19ac674",
   "metadata": {
    "ExecuteTime": {
     "end_time": "2023-09-12T13:46:56.160062Z",
     "start_time": "2023-09-12T13:46:55.777301Z"
    }
   },
   "outputs": [
    {
     "data": {
      "text/plain": [
       "<Axes: xlabel='embedding_x', ylabel='embedding_y'>"
      ]
     },
     "execution_count": 98,
     "metadata": {},
     "output_type": "execute_result"
    },
    {
     "data": {
      "image/png": "[encoded data removed]",
      "text/plain": [
       "<Figure size 640x480 with 1 Axes>"
      ]
     },
     "metadata": {},
     "output_type": "display_data"
    }
   ],
   "source": [
    "sns.scatterplot( x='embedding_x', y='embedding_y', hue='cluster', data=df9, palette='deep')"
   ]
  },
  {
   "cell_type": "markdown",
   "id": "1fa5bd9e",
   "metadata": {},
   "source": [
    "## 9.4 Cluster Profile"
   ]
  },
  {
   "cell_type": "code",
   "execution_count": 99,
   "id": "79eb6e57",
   "metadata": {
    "ExecuteTime": {
     "end_time": "2023-09-12T13:46:59.813475Z",
     "start_time": "2023-09-12T13:46:59.793211Z"
    }
   },
   "outputs": [
    {
     "data": {
      "text/html": [
       "<div>\n",
       "<style scoped>\n",
       "    .dataframe tbody tr th:only-of-type {\n",
       "        vertical-align: middle;\n",
       "    }\n",
       "\n",
       "    .dataframe tbody tr th {\n",
       "        vertical-align: top;\n",
       "    }\n",
       "\n",
       "    .dataframe thead th {\n",
       "        text-align: right;\n",
       "    }\n",
       "</style>\n",
       "<table border=\"1\" class=\"dataframe\">\n",
       "  <thead>\n",
       "    <tr style=\"text-align: right;\">\n",
       "      <th></th>\n",
       "      <th>customer_id</th>\n",
       "      <th>gross_revenue</th>\n",
       "      <th>recency_days</th>\n",
       "      <th>qtde_products</th>\n",
       "      <th>frequency</th>\n",
       "      <th>qtde_returns</th>\n",
       "      <th>cluster</th>\n",
       "    </tr>\n",
       "  </thead>\n",
       "  <tbody>\n",
       "    <tr>\n",
       "      <th>0</th>\n",
       "      <td>17850</td>\n",
       "      <td>5391.21</td>\n",
       "      <td>372.0</td>\n",
       "      <td>297.0</td>\n",
       "      <td>17.000000</td>\n",
       "      <td>40.0</td>\n",
       "      <td>5</td>\n",
       "    </tr>\n",
       "    <tr>\n",
       "      <th>1</th>\n",
       "      <td>13047</td>\n",
       "      <td>3232.59</td>\n",
       "      <td>56.0</td>\n",
       "      <td>171.0</td>\n",
       "      <td>0.028302</td>\n",
       "      <td>35.0</td>\n",
       "      <td>5</td>\n",
       "    </tr>\n",
       "    <tr>\n",
       "      <th>2</th>\n",
       "      <td>12583</td>\n",
       "      <td>6705.38</td>\n",
       "      <td>2.0</td>\n",
       "      <td>232.0</td>\n",
       "      <td>0.040323</td>\n",
       "      <td>50.0</td>\n",
       "      <td>5</td>\n",
       "    </tr>\n",
       "    <tr>\n",
       "      <th>3</th>\n",
       "      <td>13748</td>\n",
       "      <td>948.25</td>\n",
       "      <td>95.0</td>\n",
       "      <td>28.0</td>\n",
       "      <td>0.017921</td>\n",
       "      <td>0.0</td>\n",
       "      <td>3</td>\n",
       "    </tr>\n",
       "    <tr>\n",
       "      <th>4</th>\n",
       "      <td>15100</td>\n",
       "      <td>876.00</td>\n",
       "      <td>333.0</td>\n",
       "      <td>3.0</td>\n",
       "      <td>0.073171</td>\n",
       "      <td>22.0</td>\n",
       "      <td>4</td>\n",
       "    </tr>\n",
       "  </tbody>\n",
       "</table>\n",
       "</div>"
      ],
      "text/plain": [
       "   customer_id  gross_revenue  recency_days  qtde_products  frequency  \\\n",
       "0        17850        5391.21         372.0          297.0  17.000000   \n",
       "1        13047        3232.59          56.0          171.0   0.028302   \n",
       "2        12583        6705.38           2.0          232.0   0.040323   \n",
       "3        13748         948.25          95.0           28.0   0.017921   \n",
       "4        15100         876.00         333.0            3.0   0.073171   \n",
       "\n",
       "   qtde_returns  cluster  \n",
       "0          40.0        5  \n",
       "1          35.0        5  \n",
       "2          50.0        5  \n",
       "3           0.0        3  \n",
       "4          22.0        4  "
      ]
     },
     "execution_count": 99,
     "metadata": {},
     "output_type": "execute_result"
    }
   ],
   "source": [
    "df92 = df4[ cols_selected ].copy()\n",
    "df92['cluster'] = labels\n",
    "df92.head()"
   ]
  },
  {
   "cell_type": "code",
   "execution_count": 100,
   "id": "6fd5373c",
   "metadata": {
    "ExecuteTime": {
     "end_time": "2023-09-12T13:47:01.501707Z",
     "start_time": "2023-09-12T13:47:01.464083Z"
    }
   },
   "outputs": [
    {
     "data": {
      "text/html": [
       "<div>\n",
       "<style scoped>\n",
       "    .dataframe tbody tr th:only-of-type {\n",
       "        vertical-align: middle;\n",
       "    }\n",
       "\n",
       "    .dataframe tbody tr th {\n",
       "        vertical-align: top;\n",
       "    }\n",
       "\n",
       "    .dataframe thead th {\n",
       "        text-align: right;\n",
       "    }\n",
       "</style>\n",
       "<table border=\"1\" class=\"dataframe\">\n",
       "  <thead>\n",
       "    <tr style=\"text-align: right;\">\n",
       "      <th></th>\n",
       "      <th>cluster</th>\n",
       "      <th>customer_id</th>\n",
       "      <th>perc_customer</th>\n",
       "      <th>gross_revenue</th>\n",
       "      <th>recency_days</th>\n",
       "      <th>qtde_products</th>\n",
       "      <th>frequency</th>\n",
       "      <th>qtde_returns</th>\n",
       "    </tr>\n",
       "  </thead>\n",
       "  <tbody>\n",
       "    <tr>\n",
       "      <th>5</th>\n",
       "      <td>5</td>\n",
       "      <td>621</td>\n",
       "      <td>10.892826</td>\n",
       "      <td>7918.657214</td>\n",
       "      <td>63.417069</td>\n",
       "      <td>365.589372</td>\n",
       "      <td>0.272912</td>\n",
       "      <td>377.821256</td>\n",
       "    </tr>\n",
       "    <tr>\n",
       "      <th>0</th>\n",
       "      <td>0</td>\n",
       "      <td>229</td>\n",
       "      <td>4.016839</td>\n",
       "      <td>2017.516681</td>\n",
       "      <td>75.925764</td>\n",
       "      <td>175.563319</td>\n",
       "      <td>0.202708</td>\n",
       "      <td>11.497817</td>\n",
       "    </tr>\n",
       "    <tr>\n",
       "      <th>2</th>\n",
       "      <td>2</td>\n",
       "      <td>1852</td>\n",
       "      <td>32.485529</td>\n",
       "      <td>1664.918364</td>\n",
       "      <td>109.293737</td>\n",
       "      <td>100.903888</td>\n",
       "      <td>0.631526</td>\n",
       "      <td>3.010259</td>\n",
       "    </tr>\n",
       "    <tr>\n",
       "      <th>6</th>\n",
       "      <td>6</td>\n",
       "      <td>416</td>\n",
       "      <td>7.296965</td>\n",
       "      <td>1178.028750</td>\n",
       "      <td>135.997596</td>\n",
       "      <td>53.050481</td>\n",
       "      <td>0.515573</td>\n",
       "      <td>8.038462</td>\n",
       "    </tr>\n",
       "    <tr>\n",
       "      <th>3</th>\n",
       "      <td>3</td>\n",
       "      <td>394</td>\n",
       "      <td>6.911068</td>\n",
       "      <td>940.745254</td>\n",
       "      <td>73.522843</td>\n",
       "      <td>33.436548</td>\n",
       "      <td>0.026147</td>\n",
       "      <td>4.832487</td>\n",
       "    </tr>\n",
       "    <tr>\n",
       "      <th>1</th>\n",
       "      <td>1</td>\n",
       "      <td>1081</td>\n",
       "      <td>18.961586</td>\n",
       "      <td>477.439843</td>\n",
       "      <td>141.126735</td>\n",
       "      <td>20.200740</td>\n",
       "      <td>0.731285</td>\n",
       "      <td>6.753932</td>\n",
       "    </tr>\n",
       "    <tr>\n",
       "      <th>4</th>\n",
       "      <td>4</td>\n",
       "      <td>645</td>\n",
       "      <td>11.313805</td>\n",
       "      <td>471.775442</td>\n",
       "      <td>143.939535</td>\n",
       "      <td>11.048062</td>\n",
       "      <td>0.386197</td>\n",
       "      <td>3.775194</td>\n",
       "    </tr>\n",
       "    <tr>\n",
       "      <th>7</th>\n",
       "      <td>7</td>\n",
       "      <td>463</td>\n",
       "      <td>8.121382</td>\n",
       "      <td>333.190281</td>\n",
       "      <td>165.892009</td>\n",
       "      <td>19.717063</td>\n",
       "      <td>1.019402</td>\n",
       "      <td>2.697624</td>\n",
       "    </tr>\n",
       "  </tbody>\n",
       "</table>\n",
       "</div>"
      ],
      "text/plain": [
       "   cluster  customer_id  perc_customer  gross_revenue  recency_days  \\\n",
       "5        5          621      10.892826    7918.657214     63.417069   \n",
       "0        0          229       4.016839    2017.516681     75.925764   \n",
       "2        2         1852      32.485529    1664.918364    109.293737   \n",
       "6        6          416       7.296965    1178.028750    135.997596   \n",
       "3        3          394       6.911068     940.745254     73.522843   \n",
       "1        1         1081      18.961586     477.439843    141.126735   \n",
       "4        4          645      11.313805     471.775442    143.939535   \n",
       "7        7          463       8.121382     333.190281    165.892009   \n",
       "\n",
       "   qtde_products  frequency  qtde_returns  \n",
       "5     365.589372   0.272912    377.821256  \n",
       "0     175.563319   0.202708     11.497817  \n",
       "2     100.903888   0.631526      3.010259  \n",
       "6      53.050481   0.515573      8.038462  \n",
       "3      33.436548   0.026147      4.832487  \n",
       "1      20.200740   0.731285      6.753932  \n",
       "4      11.048062   0.386197      3.775194  \n",
       "7      19.717063   1.019402      2.697624  "
      ]
     },
     "execution_count": 100,
     "metadata": {},
     "output_type": "execute_result"
    }
   ],
   "source": [
    "# Number of customer\n",
    "df_cluster = df92[['customer_id', 'cluster']].groupby( 'cluster' ).count().reset_index()\n",
    "df_cluster['perc_customer'] = 100*( df_cluster['customer_id'] / df_cluster['customer_id'].sum() )\n",
    "\n",
    "# Avg Gross revenue\n",
    "df_avg_gross_revenue = df92[['gross_revenue', 'cluster']].groupby( 'cluster' ).mean().reset_index()\n",
    "df_cluster = pd.merge( df_cluster, df_avg_gross_revenue, how='inner', on='cluster' )\n",
    "\n",
    "# Avg recency days\n",
    "df_avg_recency_days = df92[['recency_days', 'cluster']].groupby( 'cluster' ).mean().reset_index()\n",
    "df_cluster = pd.merge( df_cluster, df_avg_recency_days, how='inner', on='cluster' )\n",
    "\n",
    "# Avg invoice_no\n",
    "df_qtde_products = df92[['qtde_products', 'cluster']].groupby( 'cluster' ).mean().reset_index()\n",
    "df_cluster = pd.merge( df_cluster, df_qtde_products, how='inner', on='cluster' )\n",
    "\n",
    "# Frequency\n",
    "df_frequency = df92[['frequency', 'cluster']].groupby( 'cluster' ).mean().reset_index()\n",
    "df_cluster = pd.merge( df_cluster, df_frequency, how='inner', on='cluster' )\n",
    "\n",
    "# Returns\n",
    "df_qtde_returns = df92[['qtde_returns', 'cluster']].groupby( 'cluster' ).mean().reset_index()\n",
    "df_cluster = pd.merge( df_cluster, df_qtde_returns, how='inner', on='cluster' )\n",
    "\n",
    "df_cluster.sort_values( 'gross_revenue', ascending=False )"
   ]
  },
  {
   "cell_type": "markdown",
   "id": "752cb537",
   "metadata": {},
   "source": [
    "# 10.0 Exploratory Data Analysis"
   ]
  },
  {
   "cell_type": "code",
   "execution_count": 101,
   "id": "dbc492dd",
   "metadata": {
    "ExecuteTime": {
     "end_time": "2023-09-12T13:47:06.300232Z",
     "start_time": "2023-09-12T13:47:06.295942Z"
    }
   },
   "outputs": [],
   "source": [
    "df10 = df92.copy()"
   ]
  },
  {
   "cell_type": "code",
   "execution_count": 102,
   "id": "7738297c",
   "metadata": {
    "ExecuteTime": {
     "end_time": "2023-09-12T13:47:06.778403Z",
     "start_time": "2023-09-12T13:47:06.761210Z"
    }
   },
   "outputs": [
    {
     "data": {
      "text/html": [
       "<div>\n",
       "<style scoped>\n",
       "    .dataframe tbody tr th:only-of-type {\n",
       "        vertical-align: middle;\n",
       "    }\n",
       "\n",
       "    .dataframe tbody tr th {\n",
       "        vertical-align: top;\n",
       "    }\n",
       "\n",
       "    .dataframe thead th {\n",
       "        text-align: right;\n",
       "    }\n",
       "</style>\n",
       "<table border=\"1\" class=\"dataframe\">\n",
       "  <thead>\n",
       "    <tr style=\"text-align: right;\">\n",
       "      <th></th>\n",
       "      <th>customer_id</th>\n",
       "      <th>gross_revenue</th>\n",
       "      <th>recency_days</th>\n",
       "      <th>qtde_products</th>\n",
       "      <th>frequency</th>\n",
       "      <th>qtde_returns</th>\n",
       "      <th>cluster</th>\n",
       "    </tr>\n",
       "  </thead>\n",
       "  <tbody>\n",
       "    <tr>\n",
       "      <th>0</th>\n",
       "      <td>17850</td>\n",
       "      <td>5391.21</td>\n",
       "      <td>372.0</td>\n",
       "      <td>297.0</td>\n",
       "      <td>17.000000</td>\n",
       "      <td>40.0</td>\n",
       "      <td>5</td>\n",
       "    </tr>\n",
       "    <tr>\n",
       "      <th>1</th>\n",
       "      <td>13047</td>\n",
       "      <td>3232.59</td>\n",
       "      <td>56.0</td>\n",
       "      <td>171.0</td>\n",
       "      <td>0.028302</td>\n",
       "      <td>35.0</td>\n",
       "      <td>5</td>\n",
       "    </tr>\n",
       "    <tr>\n",
       "      <th>2</th>\n",
       "      <td>12583</td>\n",
       "      <td>6705.38</td>\n",
       "      <td>2.0</td>\n",
       "      <td>232.0</td>\n",
       "      <td>0.040323</td>\n",
       "      <td>50.0</td>\n",
       "      <td>5</td>\n",
       "    </tr>\n",
       "    <tr>\n",
       "      <th>3</th>\n",
       "      <td>13748</td>\n",
       "      <td>948.25</td>\n",
       "      <td>95.0</td>\n",
       "      <td>28.0</td>\n",
       "      <td>0.017921</td>\n",
       "      <td>0.0</td>\n",
       "      <td>3</td>\n",
       "    </tr>\n",
       "    <tr>\n",
       "      <th>4</th>\n",
       "      <td>15100</td>\n",
       "      <td>876.00</td>\n",
       "      <td>333.0</td>\n",
       "      <td>3.0</td>\n",
       "      <td>0.073171</td>\n",
       "      <td>22.0</td>\n",
       "      <td>4</td>\n",
       "    </tr>\n",
       "  </tbody>\n",
       "</table>\n",
       "</div>"
      ],
      "text/plain": [
       "   customer_id  gross_revenue  recency_days  qtde_products  frequency  \\\n",
       "0        17850        5391.21         372.0          297.0  17.000000   \n",
       "1        13047        3232.59          56.0          171.0   0.028302   \n",
       "2        12583        6705.38           2.0          232.0   0.040323   \n",
       "3        13748         948.25          95.0           28.0   0.017921   \n",
       "4        15100         876.00         333.0            3.0   0.073171   \n",
       "\n",
       "   qtde_returns  cluster  \n",
       "0          40.0        5  \n",
       "1          35.0        5  \n",
       "2          50.0        5  \n",
       "3           0.0        3  \n",
       "4          22.0        4  "
      ]
     },
     "execution_count": 102,
     "metadata": {},
     "output_type": "execute_result"
    }
   ],
   "source": [
    "df10.head() "
   ]
  },
  {
   "cell_type": "markdown",
   "id": "ac50c63a",
   "metadata": {},
   "source": [
    "# 11.0 Deploy To Production "
   ]
  },
  {
   "cell_type": "code",
   "execution_count": 104,
   "id": "9c10607e",
   "metadata": {
    "ExecuteTime": {
     "end_time": "2023-09-12T13:50:27.794850Z",
     "start_time": "2023-09-12T13:50:27.783882Z"
    }
   },
   "outputs": [],
   "source": [
    "df92['recency_days'] = df92['recency_days'].astype( int )\n",
    "df92['qtde_products'] = df92['qtde_products'].astype( int )\n",
    "df92['qtde_returns'] = df92['qtde_returns'].astype( int )"
   ]
  },
  {
   "cell_type": "code",
   "execution_count": 109,
   "id": "df8fdcd2",
   "metadata": {
    "ExecuteTime": {
     "end_time": "2023-09-12T14:06:44.711395Z",
     "start_time": "2023-09-12T14:06:44.698042Z"
    }
   },
   "outputs": [
    {
     "data": {
      "text/plain": [
       "<sqlalchemy.engine.cursor.LegacyCursorResult at 0x297b044f0>"
      ]
     },
     "execution_count": 109,
     "metadata": {},
     "output_type": "execute_result"
    }
   ],
   "source": [
    "# database conection\n",
    "conn = create_engine( 'sqlite:///vip_db.sqlite' )\n",
    "\n",
    "# drop table\n",
    "#query_drop_vip = \"\"\"\n",
    "#    DROP TABLE vip\n",
    "#\"\"\"\n",
    "\n",
    "# create table\n",
    "query_create_vip = \"\"\"\n",
    "    CREATE TABLE vip ( \n",
    "        customer_id   INTEGER,\n",
    "        gross_revenue REAL,\n",
    "        recency_days  INTEGER,\n",
    "        qtde_products INTEGER,\n",
    "        frequency     REAL,\n",
    "        qtde_returns  INTEGER,\n",
    "        cluster       INTEGER\n",
    "    )\n",
    "\"\"\"\n",
    "\n",
    "conn.execute( query_create_vip )"
   ]
  },
  {
   "cell_type": "code",
   "execution_count": 116,
   "id": "3ccfc792",
   "metadata": {
    "ExecuteTime": {
     "end_time": "2023-09-12T14:08:49.957585Z",
     "start_time": "2023-09-12T14:08:49.907307Z"
    }
   },
   "outputs": [
    {
     "data": {
      "text/plain": [
       "5701"
      ]
     },
     "execution_count": 116,
     "metadata": {},
     "output_type": "execute_result"
    }
   ],
   "source": [
    "# insert data into\n",
    "df92.to_sql( 'vip', con=conn, if_exists='append', index=False )"
   ]
  },
  {
   "cell_type": "code",
   "execution_count": 117,
   "id": "5e68842b",
   "metadata": {
    "ExecuteTime": {
     "end_time": "2023-09-12T14:08:53.591518Z",
     "start_time": "2023-09-12T14:08:53.402990Z"
    }
   },
   "outputs": [],
   "source": [
    "# consulting database\n",
    "#query = \"\"\"\n",
    "#    SELECT * FROM vip \n",
    "#\"\"\"\n",
    "\n",
    "#df = pd.read_sql_query( query, conn )"
   ]
  },
  {
   "cell_type": "code",
   "execution_count": 123,
   "id": "16bd5d77",
   "metadata": {
    "ExecuteTime": {
     "end_time": "2023-09-12T15:07:54.422738Z",
     "start_time": "2023-09-12T15:07:54.414692Z"
    }
   },
   "outputs": [],
   "source": [
    "#df.head()"
   ]
  },
  {
   "cell_type": "code",
   "execution_count": null,
   "id": "04b26742",
   "metadata": {},
   "outputs": [],
   "source": []
  }
 ],
 "metadata": {
  "kernelspec": {
   "display_name": "Python 3 (ipykernel)",
   "language": "python",
   "name": "python3"
  },
  "language_info": {
   "codemirror_mode": {
    "name": "ipython",
    "version": 3
   },
   "file_extension": ".py",
   "mimetype": "text/x-python",
   "name": "python",
   "nbconvert_exporter": "python",
   "pygments_lexer": "ipython3",
   "version": "3.8.13"
  },
  "varInspector": {
   "cols": {
    "lenName": 16,
    "lenType": 16,
    "lenVar": 40
   },
   "kernels_config": {
    "python": {
     "delete_cmd_postfix": "",
     "delete_cmd_prefix": "del ",
     "library": "var_list.py",
     "varRefreshCmd": "print(var_dic_list())"
    },
    "r": {
     "delete_cmd_postfix": ") ",
     "delete_cmd_prefix": "rm(",
     "library": "var_list.r",
     "varRefreshCmd": "cat(var_dic_list()) "
    }
   },
   "types_to_exclude": [
    "module",
    "function",
    "builtin_function_or_method",
    "instance",
    "_Feature"
   ],
   "window_display": false
  }
 },
 "nbformat": 4,
 "nbformat_minor": 5
}
