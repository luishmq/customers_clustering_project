{
 "cells": [
  {
   "cell_type": "markdown",
   "id": "d82252dd",
   "metadata": {
    "ExecuteTime": {
     "end_time": "2023-08-24T18:02:13.814514Z",
     "start_time": "2023-08-24T18:02:13.158978Z"
    }
   },
   "source": [
    "# 0.0 Imports"
   ]
  },
  {
   "cell_type": "code",
   "execution_count": 45,
   "id": "3c88abe7",
   "metadata": {
    "ExecuteTime": {
     "end_time": "2023-08-25T12:43:00.891621Z",
     "start_time": "2023-08-25T12:43:00.887616Z"
    }
   },
   "outputs": [],
   "source": [
    "import inflection\n",
    "import pandas as pd\n",
    "import numpy as np\n",
    "import seaborn as sns\n",
    "from sklearn         import preprocessing  as pp\n",
    "from pandas_profiling import ProfileReport\n",
    "from IPython.display import HTML"
   ]
  },
  {
   "cell_type": "markdown",
   "id": "dea0b134",
   "metadata": {},
   "source": [
    "## 0.1 Helper Functions"
   ]
  },
  {
   "cell_type": "code",
   "execution_count": 2,
   "id": "eefeab4a",
   "metadata": {
    "ExecuteTime": {
     "end_time": "2023-08-25T12:36:59.548074Z",
     "start_time": "2023-08-25T12:36:59.518095Z"
    }
   },
   "outputs": [
    {
     "name": "stdout",
     "output_type": "stream",
     "text": [
      "%pylab is deprecated, use %matplotlib inline and import the required libraries.\n",
      "Populating the interactive namespace from numpy and matplotlib\n"
     ]
    },
    {
     "data": {
      "text/html": [
       "<style>.container { width:100% !important; }</style>"
      ],
      "text/plain": [
       "<IPython.core.display.HTML object>"
      ]
     },
     "metadata": {},
     "output_type": "display_data"
    }
   ],
   "source": [
    "def jupyter_settings():\n",
    "    %matplotlib inline\n",
    "    %pylab inline\n",
    "    \n",
    "    plt.style.use( 'ggplot')\n",
    "    plt.rcParams['figure.figsize'] = [24, 9]\n",
    "    plt.rcParams['font.size'] = 24\n",
    "    \n",
    "    display( HTML( '<style>.container { width:100% !important; }</style>') )\n",
    "    pd.options.display.max_columns = None\n",
    "    pd.options.display.max_rows = None\n",
    "    pd.set_option( 'display.expand_frame_repr', False )\n",
    "    \n",
    "    sns.set()\n",
    "    \n",
    "jupyter_settings()"
   ]
  },
  {
   "cell_type": "markdown",
   "id": "281e8bf7",
   "metadata": {},
   "source": [
    "## 0.2 Loading Data"
   ]
  },
  {
   "cell_type": "code",
   "execution_count": 3,
   "id": "6430cb68",
   "metadata": {
    "ExecuteTime": {
     "end_time": "2023-08-25T12:37:00.945582Z",
     "start_time": "2023-08-25T12:37:00.584628Z"
    }
   },
   "outputs": [],
   "source": [
    "# Carregando dados\n",
    "df_raw = pd.read_csv('../data/Ecommerce.csv')"
   ]
  },
  {
   "cell_type": "code",
   "execution_count": 4,
   "id": "27355600",
   "metadata": {
    "ExecuteTime": {
     "end_time": "2023-08-25T12:37:01.723411Z",
     "start_time": "2023-08-25T12:37:01.672305Z"
    }
   },
   "outputs": [],
   "source": [
    "# Dropando coluna extra\n",
    "df_raw = df_raw.drop( columns=['Unnamed: 8'], axis=1 )"
   ]
  },
  {
   "cell_type": "code",
   "execution_count": 5,
   "id": "be905be8",
   "metadata": {
    "ExecuteTime": {
     "end_time": "2023-08-25T12:37:02.323312Z",
     "start_time": "2023-08-25T12:37:02.303238Z"
    }
   },
   "outputs": [
    {
     "data": {
      "text/html": [
       "<div>\n",
       "<style scoped>\n",
       "    .dataframe tbody tr th:only-of-type {\n",
       "        vertical-align: middle;\n",
       "    }\n",
       "\n",
       "    .dataframe tbody tr th {\n",
       "        vertical-align: top;\n",
       "    }\n",
       "\n",
       "    .dataframe thead th {\n",
       "        text-align: right;\n",
       "    }\n",
       "</style>\n",
       "<table border=\"1\" class=\"dataframe\">\n",
       "  <thead>\n",
       "    <tr style=\"text-align: right;\">\n",
       "      <th></th>\n",
       "      <th>InvoiceNo</th>\n",
       "      <th>StockCode</th>\n",
       "      <th>Description</th>\n",
       "      <th>Quantity</th>\n",
       "      <th>InvoiceDate</th>\n",
       "      <th>UnitPrice</th>\n",
       "      <th>CustomerID</th>\n",
       "      <th>Country</th>\n",
       "    </tr>\n",
       "  </thead>\n",
       "  <tbody>\n",
       "    <tr>\n",
       "      <th>0</th>\n",
       "      <td>536365</td>\n",
       "      <td>85123A</td>\n",
       "      <td>WHITE HANGING HEART T-LIGHT HOLDER</td>\n",
       "      <td>6</td>\n",
       "      <td>29-Nov-16</td>\n",
       "      <td>2.55</td>\n",
       "      <td>17850.0</td>\n",
       "      <td>United Kingdom</td>\n",
       "    </tr>\n",
       "    <tr>\n",
       "      <th>1</th>\n",
       "      <td>536365</td>\n",
       "      <td>71053</td>\n",
       "      <td>WHITE METAL LANTERN</td>\n",
       "      <td>6</td>\n",
       "      <td>29-Nov-16</td>\n",
       "      <td>3.39</td>\n",
       "      <td>17850.0</td>\n",
       "      <td>United Kingdom</td>\n",
       "    </tr>\n",
       "    <tr>\n",
       "      <th>2</th>\n",
       "      <td>536365</td>\n",
       "      <td>84406B</td>\n",
       "      <td>CREAM CUPID HEARTS COAT HANGER</td>\n",
       "      <td>8</td>\n",
       "      <td>29-Nov-16</td>\n",
       "      <td>2.75</td>\n",
       "      <td>17850.0</td>\n",
       "      <td>United Kingdom</td>\n",
       "    </tr>\n",
       "    <tr>\n",
       "      <th>3</th>\n",
       "      <td>536365</td>\n",
       "      <td>84029G</td>\n",
       "      <td>KNITTED UNION FLAG HOT WATER BOTTLE</td>\n",
       "      <td>6</td>\n",
       "      <td>29-Nov-16</td>\n",
       "      <td>3.39</td>\n",
       "      <td>17850.0</td>\n",
       "      <td>United Kingdom</td>\n",
       "    </tr>\n",
       "    <tr>\n",
       "      <th>4</th>\n",
       "      <td>536365</td>\n",
       "      <td>84029E</td>\n",
       "      <td>RED WOOLLY HOTTIE WHITE HEART.</td>\n",
       "      <td>6</td>\n",
       "      <td>29-Nov-16</td>\n",
       "      <td>3.39</td>\n",
       "      <td>17850.0</td>\n",
       "      <td>United Kingdom</td>\n",
       "    </tr>\n",
       "  </tbody>\n",
       "</table>\n",
       "</div>"
      ],
      "text/plain": [
       "  InvoiceNo StockCode                          Description  Quantity InvoiceDate  UnitPrice  CustomerID         Country\n",
       "0    536365    85123A   WHITE HANGING HEART T-LIGHT HOLDER         6   29-Nov-16       2.55     17850.0  United Kingdom\n",
       "1    536365     71053                  WHITE METAL LANTERN         6   29-Nov-16       3.39     17850.0  United Kingdom\n",
       "2    536365    84406B       CREAM CUPID HEARTS COAT HANGER         8   29-Nov-16       2.75     17850.0  United Kingdom\n",
       "3    536365    84029G  KNITTED UNION FLAG HOT WATER BOTTLE         6   29-Nov-16       3.39     17850.0  United Kingdom\n",
       "4    536365    84029E       RED WOOLLY HOTTIE WHITE HEART.         6   29-Nov-16       3.39     17850.0  United Kingdom"
      ]
     },
     "execution_count": 5,
     "metadata": {},
     "output_type": "execute_result"
    }
   ],
   "source": [
    "df_raw.head()"
   ]
  },
  {
   "cell_type": "markdown",
   "id": "10a0e3cc",
   "metadata": {},
   "source": [
    "# 1.0 Data Description"
   ]
  },
  {
   "cell_type": "code",
   "execution_count": 6,
   "id": "a88bb86d",
   "metadata": {
    "ExecuteTime": {
     "end_time": "2023-08-25T12:37:03.241024Z",
     "start_time": "2023-08-25T12:37:03.220037Z"
    }
   },
   "outputs": [],
   "source": [
    "df1 = df_raw.copy()"
   ]
  },
  {
   "cell_type": "markdown",
   "id": "92ba8211",
   "metadata": {},
   "source": [
    "## 1.1 Rename Columns"
   ]
  },
  {
   "cell_type": "code",
   "execution_count": 7,
   "id": "57898392",
   "metadata": {
    "ExecuteTime": {
     "end_time": "2023-08-25T12:37:04.144822Z",
     "start_time": "2023-08-25T12:37:04.136106Z"
    }
   },
   "outputs": [],
   "source": [
    "# Mudar para snake case\n",
    "old_cols = ['InvoiceNo', 'StockCode', 'Description', 'Quantity', 'InvoiceDate', 'UnitPrice', 'CustomerID', 'Country']\n",
    "\n",
    "snake_case = lambda x: inflection.underscore(x)\n",
    "\n",
    "new_cols = list( map(snake_case, old_cols))\n",
    "df1.columns = new_cols"
   ]
  },
  {
   "cell_type": "markdown",
   "id": "6e32d801",
   "metadata": {},
   "source": [
    "## 1.2 Data Dimensions"
   ]
  },
  {
   "cell_type": "code",
   "execution_count": 8,
   "id": "a198abe2",
   "metadata": {
    "ExecuteTime": {
     "end_time": "2023-08-25T12:37:05.140785Z",
     "start_time": "2023-08-25T12:37:05.134706Z"
    }
   },
   "outputs": [
    {
     "name": "stdout",
     "output_type": "stream",
     "text": [
      "Number of rows: 541909\n",
      "Number of columns: 8\n"
     ]
    }
   ],
   "source": [
    "print(\"Number of rows: {}\".format(df1.shape[0]))\n",
    "print(\"Number of columns: {}\".format(df1.shape[1]))"
   ]
  },
  {
   "cell_type": "markdown",
   "id": "1d6f596f",
   "metadata": {},
   "source": [
    "## 1.3 Data Types"
   ]
  },
  {
   "cell_type": "code",
   "execution_count": 9,
   "id": "b741668c",
   "metadata": {
    "ExecuteTime": {
     "end_time": "2023-08-25T12:37:06.111522Z",
     "start_time": "2023-08-25T12:37:06.101452Z"
    }
   },
   "outputs": [
    {
     "data": {
      "text/plain": [
       "invoice_no       object\n",
       "stock_code       object\n",
       "description      object\n",
       "quantity          int64\n",
       "invoice_date     object\n",
       "unit_price      float64\n",
       "customer_id     float64\n",
       "country          object\n",
       "dtype: object"
      ]
     },
     "execution_count": 9,
     "metadata": {},
     "output_type": "execute_result"
    }
   ],
   "source": [
    "df1.dtypes"
   ]
  },
  {
   "cell_type": "markdown",
   "id": "9cfbe564",
   "metadata": {},
   "source": [
    "## 1.4 Check NA"
   ]
  },
  {
   "cell_type": "code",
   "execution_count": 10,
   "id": "6d12ec6a",
   "metadata": {
    "ExecuteTime": {
     "end_time": "2023-08-25T12:37:07.321274Z",
     "start_time": "2023-08-25T12:37:07.100264Z"
    }
   },
   "outputs": [
    {
     "data": {
      "text/plain": [
       "invoice_no           0\n",
       "stock_code           0\n",
       "description       1454\n",
       "quantity             0\n",
       "invoice_date         0\n",
       "unit_price           0\n",
       "customer_id     135080\n",
       "country              0\n",
       "dtype: int64"
      ]
     },
     "execution_count": 10,
     "metadata": {},
     "output_type": "execute_result"
    }
   ],
   "source": [
    "df1.isna().sum()"
   ]
  },
  {
   "cell_type": "markdown",
   "id": "3e5447c2",
   "metadata": {},
   "source": [
    "## 1.5 Fill NA"
   ]
  },
  {
   "cell_type": "code",
   "execution_count": 11,
   "id": "d9016774",
   "metadata": {
    "ExecuteTime": {
     "end_time": "2023-08-25T12:37:08.192680Z",
     "start_time": "2023-08-25T12:37:08.084951Z"
    }
   },
   "outputs": [
    {
     "name": "stdout",
     "output_type": "stream",
     "text": [
      "Removed data: 0.25\n"
     ]
    }
   ],
   "source": [
    "# Dropando valores NA nas colunas 'description' e 'customer_id'\n",
    "df1 = df1.dropna( subset=['description', 'customer_id'] )\n",
    "print( 'Removed data: {:.2f}'.format( 1-( df1.shape[0] / df_raw.shape[0] ) ) )"
   ]
  },
  {
   "cell_type": "markdown",
   "id": "94315c07",
   "metadata": {},
   "source": [
    "## 1.6 Change dtypes"
   ]
  },
  {
   "cell_type": "code",
   "execution_count": 12,
   "id": "024b4ab4",
   "metadata": {
    "ExecuteTime": {
     "end_time": "2023-08-25T12:37:09.357510Z",
     "start_time": "2023-08-25T12:37:09.282718Z"
    }
   },
   "outputs": [],
   "source": [
    "df1['invoice_date'] = pd.to_datetime(df1['invoice_date'], format='%d-%b-%y')\n",
    "\n",
    "df1['customer_id'] = df1['customer_id'].astype(np.int64)"
   ]
  },
  {
   "cell_type": "markdown",
   "id": "efdbc817",
   "metadata": {},
   "source": [
    "### 1.6.1 Final Check"
   ]
  },
  {
   "cell_type": "code",
   "execution_count": 13,
   "id": "dbdd04fc",
   "metadata": {
    "ExecuteTime": {
     "end_time": "2023-08-25T12:37:10.308127Z",
     "start_time": "2023-08-25T12:37:10.299584Z"
    }
   },
   "outputs": [
    {
     "data": {
      "text/plain": [
       "invoice_no              object\n",
       "stock_code              object\n",
       "description             object\n",
       "quantity                 int64\n",
       "invoice_date    datetime64[ns]\n",
       "unit_price             float64\n",
       "customer_id              int64\n",
       "country                 object\n",
       "dtype: object"
      ]
     },
     "execution_count": 13,
     "metadata": {},
     "output_type": "execute_result"
    }
   ],
   "source": [
    "df1.dtypes"
   ]
  },
  {
   "cell_type": "markdown",
   "id": "768448b2",
   "metadata": {},
   "source": [
    "## 1.7 Descriptive Estatistical"
   ]
  },
  {
   "cell_type": "code",
   "execution_count": 14,
   "id": "1d42c89e",
   "metadata": {
    "ExecuteTime": {
     "end_time": "2023-08-25T12:37:11.154970Z",
     "start_time": "2023-08-25T12:37:11.134574Z"
    }
   },
   "outputs": [],
   "source": [
    "num_attributes = df1.select_dtypes( include=['int64', 'float64'] )\n",
    "cat_attributes = df1.select_dtypes( exclude=['int64', 'float64', 'datetime64[ns]'] )"
   ]
  },
  {
   "cell_type": "markdown",
   "id": "b6c96195",
   "metadata": {},
   "source": [
    "### 1.7.1 Numerical Attributes"
   ]
  },
  {
   "cell_type": "code",
   "execution_count": 15,
   "id": "cc65fd54",
   "metadata": {
    "ExecuteTime": {
     "end_time": "2023-08-25T12:37:12.019422Z",
     "start_time": "2023-08-25T12:37:11.951193Z"
    }
   },
   "outputs": [
    {
     "data": {
      "text/html": [
       "<div>\n",
       "<style scoped>\n",
       "    .dataframe tbody tr th:only-of-type {\n",
       "        vertical-align: middle;\n",
       "    }\n",
       "\n",
       "    .dataframe tbody tr th {\n",
       "        vertical-align: top;\n",
       "    }\n",
       "\n",
       "    .dataframe thead th {\n",
       "        text-align: right;\n",
       "    }\n",
       "</style>\n",
       "<table border=\"1\" class=\"dataframe\">\n",
       "  <thead>\n",
       "    <tr style=\"text-align: right;\">\n",
       "      <th></th>\n",
       "      <th>attributes</th>\n",
       "      <th>min</th>\n",
       "      <th>max</th>\n",
       "      <th>range</th>\n",
       "      <th>mean</th>\n",
       "      <th>mediana</th>\n",
       "      <th>std</th>\n",
       "      <th>skew</th>\n",
       "      <th>kurtosis</th>\n",
       "    </tr>\n",
       "  </thead>\n",
       "  <tbody>\n",
       "    <tr>\n",
       "      <th>0</th>\n",
       "      <td>quantity</td>\n",
       "      <td>-80995.0</td>\n",
       "      <td>80995.0</td>\n",
       "      <td>161990.0</td>\n",
       "      <td>12.061303</td>\n",
       "      <td>5.00</td>\n",
       "      <td>248.693064</td>\n",
       "      <td>0.182663</td>\n",
       "      <td>94317.563673</td>\n",
       "    </tr>\n",
       "    <tr>\n",
       "      <th>1</th>\n",
       "      <td>unit_price</td>\n",
       "      <td>0.0</td>\n",
       "      <td>38970.0</td>\n",
       "      <td>38970.0</td>\n",
       "      <td>3.460471</td>\n",
       "      <td>1.95</td>\n",
       "      <td>69.315077</td>\n",
       "      <td>452.219019</td>\n",
       "      <td>246924.542988</td>\n",
       "    </tr>\n",
       "    <tr>\n",
       "      <th>2</th>\n",
       "      <td>customer_id</td>\n",
       "      <td>12346.0</td>\n",
       "      <td>18287.0</td>\n",
       "      <td>5941.0</td>\n",
       "      <td>15287.690570</td>\n",
       "      <td>15152.00</td>\n",
       "      <td>1713.598197</td>\n",
       "      <td>0.029835</td>\n",
       "      <td>-1.179982</td>\n",
       "    </tr>\n",
       "  </tbody>\n",
       "</table>\n",
       "</div>"
      ],
      "text/plain": [
       "    attributes      min      max     range          mean   mediana          std        skew       kurtosis\n",
       "0     quantity -80995.0  80995.0  161990.0     12.061303      5.00   248.693064    0.182663   94317.563673\n",
       "1   unit_price      0.0  38970.0   38970.0      3.460471      1.95    69.315077  452.219019  246924.542988\n",
       "2  customer_id  12346.0  18287.0    5941.0  15287.690570  15152.00  1713.598197    0.029835      -1.179982"
      ]
     },
     "execution_count": 15,
     "metadata": {},
     "output_type": "execute_result"
    }
   ],
   "source": [
    "# central tendency - mean, median\n",
    "ct1 = pd.DataFrame( num_attributes.apply( np.mean ) ).T\n",
    "ct2 = pd.DataFrame( num_attributes.apply( np.median ) ).T\n",
    "             \n",
    "# dispersion - desvio padrão, minimo, maximo, range, skew, kurtosis\n",
    "d1 = pd.DataFrame( num_attributes.apply( np.std ) ).T\n",
    "d2 = pd.DataFrame( num_attributes.apply( np.min ) ).T\n",
    "d3 = pd.DataFrame( num_attributes.apply( np.max ) ).T\n",
    "d4 = pd.DataFrame( num_attributes.apply( lambda x: x.max() - x.min() ) ).T\n",
    "d5 = pd.DataFrame( num_attributes.apply( lambda x: x.skew() ) ).T\n",
    "d6 = pd.DataFrame( num_attributes.apply( lambda x: x.kurtosis() ) ).T\n",
    "\n",
    "# concatenate\n",
    "m = pd.concat( [d2, d3, d4, ct1, ct2, d1, d5, d6] ).T.reset_index()\n",
    "m.columns = ['attributes', 'min', 'max', 'range', 'mean', 'mediana', 'std', 'skew', 'kurtosis']\n",
    "m"
   ]
  },
  {
   "cell_type": "markdown",
   "id": "52c453d6",
   "metadata": {},
   "source": [
    "### 1.7.2 Categorical Attributes"
   ]
  },
  {
   "cell_type": "markdown",
   "id": "bf463798",
   "metadata": {},
   "source": [
    "#### 1.7.2.1 Invoice No"
   ]
  },
  {
   "cell_type": "code",
   "execution_count": 16,
   "id": "96aed9ad",
   "metadata": {
    "ExecuteTime": {
     "end_time": "2023-08-25T12:37:13.589865Z",
     "start_time": "2023-08-25T12:37:13.349610Z"
    }
   },
   "outputs": [
    {
     "name": "stdout",
     "output_type": "stream",
     "text": [
      "Total number of invoices: 8905\n",
      "Total number of negative quantity: 8905\n"
     ]
    }
   ],
   "source": [
    "# Temos invoice com letras e numeros\n",
    "\n",
    "# Identficacao: \n",
    "df_letter_invoices = df1.loc[df1['invoice_no'].apply( lambda x: bool( re.search( '[^0-9]+', x ) ) ), :]\n",
    "df_letter_invoices.head()\n",
    "\n",
    "print( 'Total number of invoices: {}'.format( len( df_letter_invoices ) ) )\n",
    "print( 'Total number of negative quantity: {}'.format( len( df_letter_invoices[ df_letter_invoices['quantity'] < 0 ] ) ) )"
   ]
  },
  {
   "cell_type": "markdown",
   "id": "df750299",
   "metadata": {},
   "source": [
    "#### 1.7.2.2 Stock Code"
   ]
  },
  {
   "cell_type": "code",
   "execution_count": 17,
   "id": "8b29bb8a",
   "metadata": {
    "ExecuteTime": {
     "end_time": "2023-08-25T12:37:14.700515Z",
     "start_time": "2023-08-25T12:37:14.471223Z"
    }
   },
   "outputs": [
    {
     "data": {
      "text/plain": [
       "array(['POST', 'D', 'M', 'PADS', 'DOT', 'CRUK'], dtype=object)"
      ]
     },
     "execution_count": 17,
     "metadata": {},
     "output_type": "execute_result"
    }
   ],
   "source": [
    "# Checagem do stock code \n",
    "df1.loc[df1['stock_code'].apply( lambda x: bool( re.search( '^[a-zA-Z]+$', x ) ) ), 'stock_code'].unique()"
   ]
  },
  {
   "cell_type": "markdown",
   "id": "00f05a5d",
   "metadata": {},
   "source": [
    "#### 1.7.2.3 Country"
   ]
  },
  {
   "cell_type": "code",
   "execution_count": 18,
   "id": "877637f0",
   "metadata": {
    "ExecuteTime": {
     "end_time": "2023-08-25T12:37:15.668377Z",
     "start_time": "2023-08-25T12:37:15.634406Z"
    }
   },
   "outputs": [
    {
     "data": {
      "text/plain": [
       "array(['United Kingdom', 'France', 'Australia', 'Netherlands', 'Germany',\n",
       "       'Norway', 'EIRE', 'Switzerland', 'Spain', 'Poland', 'Portugal',\n",
       "       'Italy', 'Belgium', 'Lithuania', 'Japan', 'Iceland',\n",
       "       'Channel Islands', 'Denmark', 'Cyprus', 'Sweden', 'Austria',\n",
       "       'Israel', 'Finland', 'Greece', 'Singapore', 'Lebanon',\n",
       "       'United Arab Emirates', 'Saudi Arabia', 'Czech Republic', 'Canada',\n",
       "       'Unspecified', 'Brazil', 'USA', 'European Community', 'Bahrain',\n",
       "       'Malta', 'RSA'], dtype=object)"
      ]
     },
     "execution_count": 18,
     "metadata": {},
     "output_type": "execute_result"
    }
   ],
   "source": [
    "df1['country'].unique()"
   ]
  },
  {
   "cell_type": "code",
   "execution_count": 19,
   "id": "dc8b7cd1",
   "metadata": {
    "ExecuteTime": {
     "end_time": "2023-08-25T12:37:16.395532Z",
     "start_time": "2023-08-25T12:37:16.335948Z"
    }
   },
   "outputs": [
    {
     "data": {
      "text/html": [
       "<div>\n",
       "<style scoped>\n",
       "    .dataframe tbody tr th:only-of-type {\n",
       "        vertical-align: middle;\n",
       "    }\n",
       "\n",
       "    .dataframe tbody tr th {\n",
       "        vertical-align: top;\n",
       "    }\n",
       "\n",
       "    .dataframe thead th {\n",
       "        text-align: right;\n",
       "    }\n",
       "</style>\n",
       "<table border=\"1\" class=\"dataframe\">\n",
       "  <thead>\n",
       "    <tr style=\"text-align: right;\">\n",
       "      <th></th>\n",
       "      <th>country</th>\n",
       "      <th>customer_id</th>\n",
       "    </tr>\n",
       "  </thead>\n",
       "  <tbody>\n",
       "    <tr>\n",
       "      <th>35</th>\n",
       "      <td>United Kingdom</td>\n",
       "      <td>3950</td>\n",
       "    </tr>\n",
       "    <tr>\n",
       "      <th>14</th>\n",
       "      <td>Germany</td>\n",
       "      <td>95</td>\n",
       "    </tr>\n",
       "    <tr>\n",
       "      <th>13</th>\n",
       "      <td>France</td>\n",
       "      <td>87</td>\n",
       "    </tr>\n",
       "    <tr>\n",
       "      <th>30</th>\n",
       "      <td>Spain</td>\n",
       "      <td>31</td>\n",
       "    </tr>\n",
       "    <tr>\n",
       "      <th>3</th>\n",
       "      <td>Belgium</td>\n",
       "      <td>25</td>\n",
       "    </tr>\n",
       "  </tbody>\n",
       "</table>\n",
       "</div>"
      ],
      "text/plain": [
       "           country  customer_id\n",
       "35  United Kingdom         3950\n",
       "14         Germany           95\n",
       "13          France           87\n",
       "30           Spain           31\n",
       "3          Belgium           25"
      ]
     },
     "execution_count": 19,
     "metadata": {},
     "output_type": "execute_result"
    }
   ],
   "source": [
    "df_countries = df1[['country', 'customer_id']].drop_duplicates().groupby('country').count().reset_index().sort_values( 'customer_id', ascending=False).head()\n",
    "df_countries"
   ]
  },
  {
   "cell_type": "markdown",
   "id": "247e5aad",
   "metadata": {},
   "source": [
    "# 2.0 Variable Filtering"
   ]
  },
  {
   "cell_type": "code",
   "execution_count": 20,
   "id": "abffcf45",
   "metadata": {
    "ExecuteTime": {
     "end_time": "2023-08-25T12:37:17.588665Z",
     "start_time": "2023-08-25T12:37:17.571780Z"
    }
   },
   "outputs": [],
   "source": [
    "df2 = df1.copy()"
   ]
  },
  {
   "cell_type": "code",
   "execution_count": 21,
   "id": "1a3f6f29",
   "metadata": {
    "ExecuteTime": {
     "end_time": "2023-08-25T12:37:18.208022Z",
     "start_time": "2023-08-25T12:37:18.055459Z"
    }
   },
   "outputs": [],
   "source": [
    "# === Numerical attributes ====\n",
    "df2 = df2.loc[df2['unit_price'] >= 0.04, :]\n",
    "\n",
    "# === Categorical attributes ====\n",
    "df2 = df2[~df2['stock_code'].isin( ['POST', 'D', 'M', 'PADS', 'DOT', 'CRUK'] )]\n",
    "\n",
    "# description\n",
    "df2 = df2.drop( columns='description', axis=1 )\n",
    "\n",
    "# map \n",
    "df2 = df2[~df2['country'].isin( ['European Community', 'Unspecified' ] ) ]\n",
    "\n",
    "# quantity\n",
    "df2_returns = df2.loc[df1['quantity'] < 0, :]\n",
    "df2_purchases = df2.loc[df1['quantity'] >= 0, :]"
   ]
  },
  {
   "cell_type": "markdown",
   "id": "084a48da",
   "metadata": {},
   "source": [
    "# 3.0 Feature Engineering"
   ]
  },
  {
   "cell_type": "code",
   "execution_count": 22,
   "id": "e02f6548",
   "metadata": {
    "ExecuteTime": {
     "end_time": "2023-08-25T12:37:19.215117Z",
     "start_time": "2023-08-25T12:37:19.202190Z"
    }
   },
   "outputs": [],
   "source": [
    "df3 = df2.copy()"
   ]
  },
  {
   "cell_type": "markdown",
   "id": "d10231e8",
   "metadata": {},
   "source": [
    "## Modelo RFM\n",
    "\n",
    "RFM é a junção de três siglas: Recência, Frequência e Monetaridade. Essa técnica lhe permitirá entender melhor seu cliente ao verificar quando foi sua última compra, quantas vezes ele já comprou e quanto já gastou com sua empresa. Nesse sentido, tem como principal objetivo fidelizar e recompensar quem já ama a marca e reativar quem está prestes a deixar de usá-la, munindo-se de uma técnica chamada Targeting Marketing. Nessa técnica, campanhas e ações são direcionadas à pessoas que fazem parte de um mesmo segmento, visando assim uma taxa de conversão maior e, consequentemente, maior receita.\n",
    "\n",
    "- Recency( Recência ): Tempo desde a última compra\n",
    "\n",
    "- Frequency( Frequência ): Frequência de compra\n",
    "\n",
    "- Monetary( Valor gasto ): Valor total de compra"
   ]
  },
  {
   "cell_type": "code",
   "execution_count": 23,
   "id": "96bf3fb8",
   "metadata": {
    "ExecuteTime": {
     "end_time": "2023-08-25T12:37:20.538881Z",
     "start_time": "2023-08-25T12:37:20.516668Z"
    }
   },
   "outputs": [],
   "source": [
    "# data reference\n",
    "df_ref = df3.drop( ['invoice_no', 'stock_code', 'quantity', 'invoice_date', 'unit_price', 'country'], axis=1 ).drop_duplicates( ignore_index=True )"
   ]
  },
  {
   "cell_type": "markdown",
   "id": "5c1dcba2",
   "metadata": {},
   "source": [
    "## 3.1 Gross Revenue"
   ]
  },
  {
   "cell_type": "code",
   "execution_count": 24,
   "id": "6d16c865",
   "metadata": {
    "ExecuteTime": {
     "end_time": "2023-08-25T12:37:22.636539Z",
     "start_time": "2023-08-25T12:37:22.601500Z"
    }
   },
   "outputs": [
    {
     "name": "stderr",
     "output_type": "stream",
     "text": [
      "/var/folders/wt/4bhdq9gj4vnbrm086fldm7z80000gn/T/ipykernel_2237/206990356.py:2: SettingWithCopyWarning: \n",
      "A value is trying to be set on a copy of a slice from a DataFrame.\n",
      "Try using .loc[row_indexer,col_indexer] = value instead\n",
      "\n",
      "See the caveats in the documentation: https://pandas.pydata.org/pandas-docs/stable/user_guide/indexing.html#returning-a-view-versus-a-copy\n",
      "  df2_purchases.loc[:, 'gross_revenue'] = df2_purchases.loc[:, 'quantity'] * df2_purchases.loc[:, 'unit_price']\n"
     ]
    },
    {
     "data": {
      "text/plain": [
       "customer_id       0\n",
       "gross_revenue    27\n",
       "dtype: int64"
      ]
     },
     "execution_count": 24,
     "metadata": {},
     "output_type": "execute_result"
    }
   ],
   "source": [
    "# Gross Revenue ( Faturamento ) quantity * price\n",
    "df2_purchases.loc[:, 'gross_revenue'] = df2_purchases.loc[:, 'quantity'] * df2_purchases.loc[:, 'unit_price']\n",
    "\n",
    "# Monetary\n",
    "df_monetary = df2_purchases.loc[:, ['customer_id', 'gross_revenue']].groupby( 'customer_id' ).sum().reset_index()\n",
    "df_ref = pd.merge( df_ref, df_monetary, on='customer_id', how='left' )\n",
    "df_ref.isna().sum()"
   ]
  },
  {
   "cell_type": "markdown",
   "id": "9abe5875",
   "metadata": {},
   "source": [
    "## 3.2 Recency"
   ]
  },
  {
   "cell_type": "code",
   "execution_count": 25,
   "id": "4672fd1c",
   "metadata": {
    "ExecuteTime": {
     "end_time": "2023-08-25T12:37:24.405009Z",
     "start_time": "2023-08-25T12:37:24.371605Z"
    }
   },
   "outputs": [
    {
     "data": {
      "text/plain": [
       "customer_id       0\n",
       "gross_revenue    27\n",
       "recency_days     27\n",
       "dtype: int64"
      ]
     },
     "execution_count": 25,
     "metadata": {},
     "output_type": "execute_result"
    }
   ],
   "source": [
    "# Recency - Last day purchase\n",
    "df_recency = df2_purchases.loc[:, ['customer_id', 'invoice_date']].groupby( 'customer_id' ).max().reset_index()\n",
    "df_recency['recency_days'] = ( df2['invoice_date'].max() - df_recency['invoice_date'] ).dt.days\n",
    "df_recency = df_recency[['customer_id', 'recency_days']].copy()\n",
    "df_ref = pd.merge( df_ref, df_recency, on='customer_id', how='left' )\n",
    "df_ref.isna().sum()"
   ]
  },
  {
   "cell_type": "markdown",
   "id": "389432aa",
   "metadata": {},
   "source": [
    "## 3.3 Quantity of purchased"
   ]
  },
  {
   "cell_type": "code",
   "execution_count": 26,
   "id": "09ad718d",
   "metadata": {
    "ExecuteTime": {
     "end_time": "2023-08-25T12:37:25.478716Z",
     "start_time": "2023-08-25T12:37:25.417083Z"
    }
   },
   "outputs": [
    {
     "data": {
      "text/plain": [
       "customer_id       0\n",
       "gross_revenue    27\n",
       "recency_days     27\n",
       "qtde_invoices    27\n",
       "dtype: int64"
      ]
     },
     "execution_count": 26,
     "metadata": {},
     "output_type": "execute_result"
    }
   ],
   "source": [
    "# Numero de produtos\n",
    "df_freq = (df2_purchases.loc[:, ['customer_id', 'invoice_no']].drop_duplicates()\n",
    "                                                             .groupby( 'customer_id' )\n",
    "                                                             .count()\n",
    "                                                             .reset_index()\n",
    "                                                             .rename( columns={'invoice_no': 'qtde_invoices'}) )\n",
    "df_ref = pd.merge( df_ref, df_freq, on='customer_id', how='left' )\n",
    "df_ref.isna().sum()"
   ]
  },
  {
   "cell_type": "markdown",
   "id": "dfb675d7",
   "metadata": {},
   "source": [
    "## 3.4 Quantity total of items purchased"
   ]
  },
  {
   "cell_type": "code",
   "execution_count": 27,
   "id": "851fa23b",
   "metadata": {
    "ExecuteTime": {
     "end_time": "2023-08-25T12:37:26.417591Z",
     "start_time": "2023-08-25T12:37:26.386710Z"
    }
   },
   "outputs": [
    {
     "data": {
      "text/plain": [
       "customer_id       0\n",
       "gross_revenue    27\n",
       "recency_days     27\n",
       "qtde_invoices    27\n",
       "qtde_items       27\n",
       "dtype: int64"
      ]
     },
     "execution_count": 27,
     "metadata": {},
     "output_type": "execute_result"
    }
   ],
   "source": [
    "# Numero de produtos\n",
    "df_freq = (df2_purchases.loc[:, ['customer_id', 'quantity']].groupby( 'customer_id' ).sum()\n",
    "                                                           .reset_index()\n",
    "                                                           .rename( columns={'quantity': 'qtde_items'} ) )\n",
    "df_ref = pd.merge( df_ref, df_freq, on='customer_id', how='left' )\n",
    "df_ref.isna().sum()"
   ]
  },
  {
   "cell_type": "markdown",
   "id": "4963cff5",
   "metadata": {},
   "source": [
    "## 3.5 Quantity of products purchased"
   ]
  },
  {
   "cell_type": "code",
   "execution_count": 49,
   "id": "8f1e90e7",
   "metadata": {
    "ExecuteTime": {
     "end_time": "2023-08-25T13:01:06.930197Z",
     "start_time": "2023-08-25T13:01:06.852172Z"
    }
   },
   "outputs": [
    {
     "data": {
      "text/plain": [
       "customer_id                  0\n",
       "gross_revenue               27\n",
       "recency_days                27\n",
       "qtde_invoices               27\n",
       "qtde_items                  27\n",
       "avg_ticket                  27\n",
       "avg_recency_days          1386\n",
       "frequency                   27\n",
       "qtde_returns                 0\n",
       "avg_basket_size             27\n",
       "avg_unique_basket_size      27\n",
       "qtde_products               27\n",
       "dtype: int64"
      ]
     },
     "execution_count": 49,
     "metadata": {},
     "output_type": "execute_result"
    }
   ],
   "source": [
    "# Numero de produtos\n",
    "df_freq = (df2_purchases.loc[:, ['customer_id', 'stock_code']].groupby( 'customer_id' ).count()\n",
    "                                                           .reset_index()\n",
    "                                                           .rename( columns={'stock_code': 'qtde_products'} ) )\n",
    "df_ref = pd.merge( df_ref, df_freq, on='customer_id', how='left' )\n",
    "df_ref.isna().sum()"
   ]
  },
  {
   "cell_type": "markdown",
   "id": "50045c3a",
   "metadata": {},
   "source": [
    "## 3.5 Average Ticket Value"
   ]
  },
  {
   "cell_type": "code",
   "execution_count": 28,
   "id": "571a2e10",
   "metadata": {
    "ExecuteTime": {
     "end_time": "2023-08-25T12:37:27.350501Z",
     "start_time": "2023-08-25T12:37:27.316519Z"
    }
   },
   "outputs": [
    {
     "data": {
      "text/plain": [
       "customer_id       0\n",
       "gross_revenue    27\n",
       "recency_days     27\n",
       "qtde_invoices    27\n",
       "qtde_items       27\n",
       "avg_ticket       27\n",
       "dtype: int64"
      ]
     },
     "execution_count": 28,
     "metadata": {},
     "output_type": "execute_result"
    }
   ],
   "source": [
    "# Avg Ticket\n",
    "df_avg_ticket = df2_purchases.loc[:, ['customer_id', 'gross_revenue']].groupby( 'customer_id' ).mean().reset_index().rename( columns={'gross_revenue':'avg_ticket'} )\n",
    "df_ref = pd.merge( df_ref, df_avg_ticket, on='customer_id', how='left')\n",
    "df_ref.isna().sum()"
   ]
  },
  {
   "cell_type": "markdown",
   "id": "26033803",
   "metadata": {},
   "source": [
    "## 3.1.6 Average Recency Days"
   ]
  },
  {
   "cell_type": "code",
   "execution_count": 29,
   "id": "dc1082b4",
   "metadata": {
    "ExecuteTime": {
     "end_time": "2023-08-25T12:37:28.914425Z",
     "start_time": "2023-08-25T12:37:28.685068Z"
    }
   },
   "outputs": [
    {
     "data": {
      "text/plain": [
       "customer_id            0\n",
       "gross_revenue         27\n",
       "recency_days          27\n",
       "qtde_invoices         27\n",
       "qtde_items            27\n",
       "avg_ticket            27\n",
       "avg_recency_days    1386\n",
       "dtype: int64"
      ]
     },
     "execution_count": 29,
     "metadata": {},
     "output_type": "execute_result"
    }
   ],
   "source": [
    "# Average recency days\n",
    "df_aux = df2[['customer_id', 'invoice_date']].drop_duplicates().sort_values( ['customer_id', 'invoice_date'], ascending=[False, False] )\n",
    "df_aux['next_customer_id'] = df_aux['customer_id'].shift() # next customer\n",
    "df_aux['previous_date'] = df_aux['invoice_date'].shift() # next invoince date\n",
    "\n",
    "df_aux['avg_recency_days'] = df_aux.apply( lambda x: ( x['invoice_date'] - x['previous_date'] ).days if x['customer_id'] == x['next_customer_id'] else np.nan, axis=1 )\n",
    "\n",
    "df_aux = df_aux.drop( ['invoice_date', 'next_customer_id', 'previous_date'], axis=1 ).dropna()\n",
    "\n",
    "# average recency \n",
    "df_avg_recency_days = df_aux.groupby( 'customer_id' ).mean().reset_index()\n",
    "\n",
    "# merge\n",
    "df_ref = pd.merge( df_ref, df_avg_recency_days, on='customer_id', how='left' )\n",
    "df_ref.isna().sum()"
   ]
  },
  {
   "cell_type": "markdown",
   "id": "0a6d4227",
   "metadata": {},
   "source": [
    "## 3.7 Frequency Purchase"
   ]
  },
  {
   "cell_type": "code",
   "execution_count": 30,
   "id": "cf65f6f1",
   "metadata": {
    "ExecuteTime": {
     "end_time": "2023-08-25T12:37:30.826781Z",
     "start_time": "2023-08-25T12:37:30.516707Z"
    }
   },
   "outputs": [
    {
     "data": {
      "text/plain": [
       "customer_id            0\n",
       "gross_revenue         27\n",
       "recency_days          27\n",
       "qtde_invoices         27\n",
       "qtde_items            27\n",
       "avg_ticket            27\n",
       "avg_recency_days    1386\n",
       "frequency             27\n",
       "dtype: int64"
      ]
     },
     "execution_count": 30,
     "metadata": {},
     "output_type": "execute_result"
    }
   ],
   "source": [
    "df_aux = ( df2_purchases[['customer_id', 'invoice_no', 'invoice_date']].drop_duplicates()\n",
    "                                                             .groupby( 'customer_id')\n",
    "                                                             .agg( max_ = ( 'invoice_date', 'max' ), \n",
    "                                                                   min_ = ( 'invoice_date', 'min' ),\n",
    "                                                                   days_= ( 'invoice_date', lambda x: ( ( x.max() - x.min() ).days ) + 1 ),\n",
    "                                                                   buy_ = ( 'invoice_no', 'count' ) ) ).reset_index()\n",
    "# Frequency\n",
    "df_aux['frequency'] = df_aux[['buy_', 'days_']].apply( lambda x: x['buy_'] / x['days_'] if  x['days_'] != 0 else 0, axis=1 )\n",
    "\n",
    "# Merge\n",
    "df_ref = pd.merge( df_ref, df_aux[['customer_id', 'frequency']], on='customer_id', how='left' )\n",
    "\n",
    "df_ref.isna().sum()"
   ]
  },
  {
   "cell_type": "markdown",
   "id": "5e485fd1",
   "metadata": {},
   "source": [
    "## 3.8 Number of Returns"
   ]
  },
  {
   "cell_type": "code",
   "execution_count": 31,
   "id": "ae469cf3",
   "metadata": {
    "ExecuteTime": {
     "end_time": "2023-08-25T12:37:32.560634Z",
     "start_time": "2023-08-25T12:37:32.536627Z"
    }
   },
   "outputs": [
    {
     "data": {
      "text/plain": [
       "customer_id            0\n",
       "gross_revenue         27\n",
       "recency_days          27\n",
       "qtde_invoices         27\n",
       "qtde_items            27\n",
       "avg_ticket            27\n",
       "avg_recency_days    1386\n",
       "frequency             27\n",
       "qtde_returns           0\n",
       "dtype: int64"
      ]
     },
     "execution_count": 31,
     "metadata": {},
     "output_type": "execute_result"
    }
   ],
   "source": [
    "# Number of Returns\n",
    "df_returns = df2_returns[['customer_id', 'quantity']].groupby( 'customer_id' ).sum().reset_index().rename( columns={'quantity':'qtde_returns'} )\n",
    "df_returns['qtde_returns'] = df_returns['qtde_returns'] * -1\n",
    "\n",
    "df_ref = pd.merge( df_ref, df_returns, how='left', on='customer_id' )\n",
    "df_ref.loc[df_ref['qtde_returns'].isna(), 'qtde_returns'] = 0\n",
    "\n",
    "df_ref.isna().sum()"
   ]
  },
  {
   "cell_type": "markdown",
   "id": "cf3eddb3",
   "metadata": {},
   "source": [
    "## 3.9 Basket Size - Quantidade de Items por Cesta ( Quantity )"
   ]
  },
  {
   "cell_type": "code",
   "execution_count": 32,
   "id": "013b943c",
   "metadata": {
    "ExecuteTime": {
     "end_time": "2023-08-25T12:37:34.522754Z",
     "start_time": "2023-08-25T12:37:34.434833Z"
    }
   },
   "outputs": [
    {
     "data": {
      "text/plain": [
       "customer_id            0\n",
       "gross_revenue         27\n",
       "recency_days          27\n",
       "qtde_invoices         27\n",
       "qtde_items            27\n",
       "avg_ticket            27\n",
       "avg_recency_days    1386\n",
       "frequency             27\n",
       "qtde_returns           0\n",
       "avg_basket_size       27\n",
       "dtype: int64"
      ]
     },
     "execution_count": 32,
     "metadata": {},
     "output_type": "execute_result"
    }
   ],
   "source": [
    "df_aux = ( df2_purchases.loc[:, ['customer_id', 'invoice_no', 'quantity']].groupby( 'customer_id' )\n",
    "                                                                            .agg( n_purchase=( 'invoice_no', 'nunique'),\n",
    "                                                                                  n_products=( 'quantity', 'sum' ) )\n",
    "                                                                            .reset_index() )\n",
    "\n",
    "# calculation\n",
    "df_aux['avg_basket_size'] = df_aux['n_products'] / df_aux['n_purchase']\n",
    "\n",
    "# merge\n",
    "df_ref = pd.merge( df_ref, df_aux[['customer_id', 'avg_basket_size']], how='left', on='customer_id' )\n",
    "df_ref.isna().sum()"
   ]
  },
  {
   "cell_type": "markdown",
   "id": "686277b4",
   "metadata": {},
   "source": [
    "## 3.10 Unique Basket Size - Quantidade de produtos distintos por compra"
   ]
  },
  {
   "cell_type": "code",
   "execution_count": 33,
   "id": "48c5ecb0",
   "metadata": {
    "ExecuteTime": {
     "end_time": "2023-08-25T12:37:37.829149Z",
     "start_time": "2023-08-25T12:37:37.666909Z"
    }
   },
   "outputs": [
    {
     "data": {
      "text/plain": [
       "customer_id                  0\n",
       "gross_revenue               27\n",
       "recency_days                27\n",
       "qtde_invoices               27\n",
       "qtde_items                  27\n",
       "avg_ticket                  27\n",
       "avg_recency_days          1386\n",
       "frequency                   27\n",
       "qtde_returns                 0\n",
       "avg_basket_size             27\n",
       "avg_unique_basket_size      27\n",
       "dtype: int64"
      ]
     },
     "execution_count": 33,
     "metadata": {},
     "output_type": "execute_result"
    }
   ],
   "source": [
    "df_aux = ( df2_purchases.loc[:, ['customer_id', 'invoice_no', 'stock_code']].groupby( 'customer_id' )\n",
    "                                                                            .agg( n_purchase=( 'invoice_no', 'nunique'),\n",
    "                                                                                   n_products=( 'stock_code', 'nunique' ) )\n",
    "                                                                            .reset_index() )\n",
    "\n",
    "# calculation\n",
    "df_aux['avg_unique_basket_size'] = df_aux['n_products'] / df_aux['n_purchase']\n",
    "\n",
    "# merge\n",
    "df_ref = pd.merge( df_ref, df_aux[['customer_id', 'avg_unique_basket_size']], how='left', on='customer_id' )\n",
    "df_ref.isna().sum()"
   ]
  },
  {
   "cell_type": "markdown",
   "id": "585157ab",
   "metadata": {},
   "source": [
    "# 4.0 EDA"
   ]
  },
  {
   "cell_type": "code",
   "execution_count": 35,
   "id": "77fac57b",
   "metadata": {
    "ExecuteTime": {
     "end_time": "2023-08-25T12:38:25.692057Z",
     "start_time": "2023-08-25T12:38:25.678375Z"
    }
   },
   "outputs": [],
   "source": [
    "df4 = df3.copy()"
   ]
  },
  {
   "cell_type": "code",
   "execution_count": 36,
   "id": "2874c871",
   "metadata": {
    "ExecuteTime": {
     "end_time": "2023-08-25T12:38:26.281908Z",
     "start_time": "2023-08-25T12:38:26.262426Z"
    }
   },
   "outputs": [
    {
     "data": {
      "text/plain": [
       "customer_id               0\n",
       "gross_revenue             0\n",
       "recency_days              0\n",
       "qtde_invoices             0\n",
       "qtde_items                0\n",
       "avg_ticket                0\n",
       "avg_recency_days          0\n",
       "frequency                 0\n",
       "qtde_returns              0\n",
       "avg_basket_size           0\n",
       "avg_unique_basket_size    0\n",
       "dtype: int64"
      ]
     },
     "execution_count": 36,
     "metadata": {},
     "output_type": "execute_result"
    }
   ],
   "source": [
    "df4 = df_ref.dropna()\n",
    "df4.isna().sum()"
   ]
  },
  {
   "cell_type": "markdown",
   "id": "7fc0ab65",
   "metadata": {},
   "source": [
    "## 4.1 Univariate Analysis"
   ]
  },
  {
   "cell_type": "code",
   "execution_count": 46,
   "id": "12d3d97a",
   "metadata": {
    "ExecuteTime": {
     "end_time": "2023-08-25T12:45:23.087766Z",
     "start_time": "2023-08-25T12:45:12.336307Z"
    }
   },
   "outputs": [
    {
     "name": "stderr",
     "output_type": "stream",
     "text": [
      "/Users/luishmq/.pyenv/versions/3.8.13/envs/insiders_clustering/lib/python3.8/site-packages/multimethod/__init__.py:315: SettingWithCopyWarning: \n",
      "A value is trying to be set on a copy of a slice from a DataFrame\n",
      "\n",
      "See the caveats in the documentation: https://pandas.pydata.org/pandas-docs/stable/user_guide/indexing.html#returning-a-view-versus-a-copy\n",
      "  return func(*args, **kwargs)\n"
     ]
    },
    {
     "data": {
      "application/vnd.jupyter.widget-view+json": {
       "model_id": "a00fb0dff1a64f80af563c619086a999",
       "version_major": 2,
       "version_minor": 0
      },
      "text/plain": [
       "Summarize dataset:   0%|          | 0/5 [00:00<?, ?it/s]"
      ]
     },
     "metadata": {},
     "output_type": "display_data"
    },
    {
     "data": {
      "application/vnd.jupyter.widget-view+json": {
       "model_id": "26decba4636b4e7a89878af43081a26f",
       "version_major": 2,
       "version_minor": 0
      },
      "text/plain": [
       "Generate report structure:   0%|          | 0/1 [00:00<?, ?it/s]"
      ]
     },
     "metadata": {},
     "output_type": "display_data"
    },
    {
     "data": {
      "application/vnd.jupyter.widget-view+json": {
       "model_id": "6ee02e298c714e7abfae329e8b89bd19",
       "version_major": 2,
       "version_minor": 0
      },
      "text/plain": [
       "Render HTML:   0%|          | 0/1 [00:00<?, ?it/s]"
      ]
     },
     "metadata": {},
     "output_type": "display_data"
    },
    {
     "data": {
      "application/vnd.jupyter.widget-view+json": {
       "model_id": "5f5fdce07b914ee2965fa88a2c0ec284",
       "version_major": 2,
       "version_minor": 0
      },
      "text/plain": [
       "Export report to file:   0%|          | 0/1 [00:00<?, ?it/s]"
      ]
     },
     "metadata": {},
     "output_type": "display_data"
    }
   ],
   "source": [
    "profile = ProfileReport(df4)\n",
    "profile.to_file('output.html')"
   ]
  },
  {
   "cell_type": "markdown",
   "id": "c92e4a86",
   "metadata": {},
   "source": [
    "## 4.2 Bivariate Analysis"
   ]
  },
  {
   "cell_type": "code",
   "execution_count": 47,
   "id": "919f35d5",
   "metadata": {
    "ExecuteTime": {
     "end_time": "2023-08-25T12:56:40.137584Z",
     "start_time": "2023-08-25T12:56:40.127674Z"
    }
   },
   "outputs": [
    {
     "data": {
      "text/plain": [
       "Index(['customer_id', 'gross_revenue', 'recency_days', 'qtde_invoices',\n",
       "       'qtde_items', 'avg_ticket', 'avg_recency_days', 'frequency',\n",
       "       'qtde_returns', 'avg_basket_size', 'avg_unique_basket_size'],\n",
       "      dtype='object')"
      ]
     },
     "execution_count": 47,
     "metadata": {},
     "output_type": "execute_result"
    }
   ],
   "source": [
    "df4.columns"
   ]
  },
  {
   "cell_type": "code",
   "execution_count": null,
   "id": "051ccac9",
   "metadata": {
    "ExecuteTime": {
     "start_time": "2023-08-25T13:02:06.066Z"
    }
   },
   "outputs": [
    {
     "data": {
      "text/plain": [
       "<seaborn.axisgrid.PairGrid at 0x2dfd2c580>"
      ]
     },
     "execution_count": 50,
     "metadata": {},
     "output_type": "execute_result"
    },
    {
     "data": {
      "text/plain": [
       "<Figure size 2500x1200 with 0 Axes>"
      ]
     },
     "metadata": {},
     "output_type": "display_data"
    }
   ],
   "source": [
    "plt.figure( figsize=(25, 12) )\n",
    "sns.pairplot( df4[['gross_revenue', 'recency_days', 'qtde_invoices',\n",
    "       'qtde_items', 'avg_ticket', 'avg_recency_days', 'frequency',\n",
    "       'qtde_returns', 'avg_basket_size', 'avg_unique_basket_size']] )"
   ]
  },
  {
   "cell_type": "code",
   "execution_count": null,
   "id": "edffc5ac",
   "metadata": {},
   "outputs": [],
   "source": []
  },
  {
   "cell_type": "code",
   "execution_count": null,
   "id": "e803469b",
   "metadata": {},
   "outputs": [],
   "source": []
  },
  {
   "cell_type": "code",
   "execution_count": null,
   "id": "383725ed",
   "metadata": {},
   "outputs": [],
   "source": []
  },
  {
   "cell_type": "markdown",
   "id": "f9c511b4",
   "metadata": {},
   "source": [
    "# 5.0 Data Preparation"
   ]
  },
  {
   "cell_type": "code",
   "execution_count": 37,
   "id": "c2ab9e55",
   "metadata": {
    "ExecuteTime": {
     "end_time": "2023-08-25T12:38:30.433075Z",
     "start_time": "2023-08-25T12:38:30.429241Z"
    }
   },
   "outputs": [],
   "source": [
    "df5 = df4.copy()"
   ]
  },
  {
   "cell_type": "code",
   "execution_count": 40,
   "id": "8f4398ca",
   "metadata": {
    "ExecuteTime": {
     "end_time": "2023-08-25T12:39:54.687619Z",
     "start_time": "2023-08-25T12:39:54.650092Z"
    }
   },
   "outputs": [],
   "source": [
    "## Standard Scalaer\n",
    "ss = pp.StandardScaler()\n",
    "\n",
    "df5['gross_revenue'] = ss.fit_transform( df5[['gross_revenue']] )\n",
    "df5['recency_days'] = ss.fit_transform( df5[['recency_days']] )\n",
    "df5['qtde_invoices'] = ss.fit_transform( df5[['qtde_invoices']] )\n",
    "df5['qtde_items'] = ss.fit_transform( df5[['qtde_items']] )\n",
    "df5['avg_ticket'] = ss.fit_transform( df5[['avg_ticket']] )\n",
    "df5['avg_recency_days'] = ss.fit_transform( df5[['avg_recency_days']] )\n",
    "df5['frequency'] = ss.fit_transform( df5[['frequency']] )\n",
    "df5['qtde_returns'] = ss.fit_transform( df5[['qtde_returns']] )\n",
    "df5['avg_basket_size'] = ss.fit_transform( df5[['avg_basket_size']] )\n",
    "df5['avg_unique_basket_size'] = ss.fit_transform( df5[['avg_unique_basket_size']] )"
   ]
  },
  {
   "cell_type": "code",
   "execution_count": 41,
   "id": "7127b304",
   "metadata": {
    "ExecuteTime": {
     "end_time": "2023-08-25T12:39:56.666518Z",
     "start_time": "2023-08-25T12:39:56.648034Z"
    }
   },
   "outputs": [
    {
     "data": {
      "text/html": [
       "<div>\n",
       "<style scoped>\n",
       "    .dataframe tbody tr th:only-of-type {\n",
       "        vertical-align: middle;\n",
       "    }\n",
       "\n",
       "    .dataframe tbody tr th {\n",
       "        vertical-align: top;\n",
       "    }\n",
       "\n",
       "    .dataframe thead th {\n",
       "        text-align: right;\n",
       "    }\n",
       "</style>\n",
       "<table border=\"1\" class=\"dataframe\">\n",
       "  <thead>\n",
       "    <tr style=\"text-align: right;\">\n",
       "      <th></th>\n",
       "      <th>customer_id</th>\n",
       "      <th>gross_revenue</th>\n",
       "      <th>recency_days</th>\n",
       "      <th>qtde_invoices</th>\n",
       "      <th>qtde_items</th>\n",
       "      <th>avg_ticket</th>\n",
       "      <th>avg_recency_days</th>\n",
       "      <th>frequency</th>\n",
       "      <th>qtde_returns</th>\n",
       "      <th>avg_basket_size</th>\n",
       "      <th>avg_unique_basket_size</th>\n",
       "    </tr>\n",
       "  </thead>\n",
       "  <tbody>\n",
       "    <tr>\n",
       "      <th>0</th>\n",
       "      <td>17850</td>\n",
       "      <td>0.249733</td>\n",
       "      <td>3.958037</td>\n",
       "      <td>3.193307</td>\n",
       "      <td>0.021090</td>\n",
       "      <td>-0.032549</td>\n",
       "      <td>0.501281</td>\n",
       "      <td>41.378877</td>\n",
       "      <td>-0.014652</td>\n",
       "      <td>-0.251248</td>\n",
       "      <td>-1.091168</td>\n",
       "    </tr>\n",
       "    <tr>\n",
       "      <th>1</th>\n",
       "      <td>13047</td>\n",
       "      <td>0.045683</td>\n",
       "      <td>-0.106602</td>\n",
       "      <td>0.370056</td>\n",
       "      <td>-0.037178</td>\n",
       "      <td>-0.031824</td>\n",
       "      <td>0.631132</td>\n",
       "      <td>-0.209503</td>\n",
       "      <td>-0.017958</td>\n",
       "      <td>-0.120504</td>\n",
       "      <td>-0.376377</td>\n",
       "    </tr>\n",
       "    <tr>\n",
       "      <th>2</th>\n",
       "      <td>12583</td>\n",
       "      <td>0.373960</td>\n",
       "      <td>-0.801192</td>\n",
       "      <td>1.047636</td>\n",
       "      <td>0.580837</td>\n",
       "      <td>-0.022180</td>\n",
       "      <td>0.695074</td>\n",
       "      <td>-0.180046</td>\n",
       "      <td>-0.008039</td>\n",
       "      <td>0.107890</td>\n",
       "      <td>-0.639461</td>\n",
       "    </tr>\n",
       "    <tr>\n",
       "      <th>3</th>\n",
       "      <td>13748</td>\n",
       "      <td>-0.170252</td>\n",
       "      <td>0.395046</td>\n",
       "      <td>-0.081664</td>\n",
       "      <td>-0.198732</td>\n",
       "      <td>-0.017392</td>\n",
       "      <td>-0.398496</td>\n",
       "      <td>-0.234940</td>\n",
       "      <td>-0.041103</td>\n",
       "      <td>-0.204712</td>\n",
       "      <td>-0.820600</td>\n",
       "    </tr>\n",
       "    <tr>\n",
       "      <th>4</th>\n",
       "      <td>15100</td>\n",
       "      <td>-0.177082</td>\n",
       "      <td>3.456388</td>\n",
       "      <td>-0.307524</td>\n",
       "      <td>-0.259718</td>\n",
       "      <td>0.231589</td>\n",
       "      <td>0.924675</td>\n",
       "      <td>-0.099554</td>\n",
       "      <td>-0.026555</td>\n",
       "      <td>-0.281957</td>\n",
       "      <td>-1.109561</td>\n",
       "    </tr>\n",
       "  </tbody>\n",
       "</table>\n",
       "</div>"
      ],
      "text/plain": [
       "   customer_id  gross_revenue  recency_days  qtde_invoices  qtde_items  avg_ticket  avg_recency_days  frequency  qtde_returns  avg_basket_size  avg_unique_basket_size\n",
       "0        17850       0.249733      3.958037       3.193307    0.021090   -0.032549          0.501281  41.378877     -0.014652        -0.251248               -1.091168\n",
       "1        13047       0.045683     -0.106602       0.370056   -0.037178   -0.031824          0.631132  -0.209503     -0.017958        -0.120504               -0.376377\n",
       "2        12583       0.373960     -0.801192       1.047636    0.580837   -0.022180          0.695074  -0.180046     -0.008039         0.107890               -0.639461\n",
       "3        13748      -0.170252      0.395046      -0.081664   -0.198732   -0.017392         -0.398496  -0.234940     -0.041103        -0.204712               -0.820600\n",
       "4        15100      -0.177082      3.456388      -0.307524   -0.259718    0.231589          0.924675  -0.099554     -0.026555        -0.281957               -1.109561"
      ]
     },
     "execution_count": 41,
     "metadata": {},
     "output_type": "execute_result"
    }
   ],
   "source": [
    "df5.head()"
   ]
  },
  {
   "cell_type": "code",
   "execution_count": null,
   "id": "61032361",
   "metadata": {},
   "outputs": [],
   "source": []
  },
  {
   "cell_type": "code",
   "execution_count": null,
   "id": "e51853e2",
   "metadata": {},
   "outputs": [],
   "source": []
  }
 ],
 "metadata": {
  "kernelspec": {
   "display_name": "Python 3 (ipykernel)",
   "language": "python",
   "name": "python3"
  },
  "language_info": {
   "codemirror_mode": {
    "name": "ipython",
    "version": 3
   },
   "file_extension": ".py",
   "mimetype": "text/x-python",
   "name": "python",
   "nbconvert_exporter": "python",
   "pygments_lexer": "ipython3",
   "version": "3.8.13"
  },
  "varInspector": {
   "cols": {
    "lenName": 16,
    "lenType": 16,
    "lenVar": 40
   },
   "kernels_config": {
    "python": {
     "delete_cmd_postfix": "",
     "delete_cmd_prefix": "del ",
     "library": "var_list.py",
     "varRefreshCmd": "print(var_dic_list())"
    },
    "r": {
     "delete_cmd_postfix": ") ",
     "delete_cmd_prefix": "rm(",
     "library": "var_list.r",
     "varRefreshCmd": "cat(var_dic_list()) "
    }
   },
   "types_to_exclude": [
    "module",
    "function",
    "builtin_function_or_method",
    "instance",
    "_Feature"
   ],
   "window_display": false
  }
 },
 "nbformat": 4,
 "nbformat_minor": 5
}
